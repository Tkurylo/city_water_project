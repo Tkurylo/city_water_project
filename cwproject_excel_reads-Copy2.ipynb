{
 "cells": [
  {
   "cell_type": "code",
   "execution_count": 1,
   "id": "fd95c3b9",
   "metadata": {},
   "outputs": [],
   "source": [
    "import pandas as pd"
   ]
  },
  {
   "cell_type": "code",
   "execution_count": 2,
   "id": "5d7c52fa",
   "metadata": {},
   "outputs": [],
   "source": [
    "S1_alameda = pd.read_excel(r\"C:\\Users\\detro\\Desktop\\Edited_Pj_city_water\\ALL\\S1_alameda.xlsx\", header=None)"
   ]
  },
  {
   "cell_type": "code",
   "execution_count": 4,
   "id": "2ac6faef",
   "metadata": {},
   "outputs": [],
   "source": [
    "S1_alamo = pd.read_excel(r\"C:\\Users\\detro\\Desktop\\Edited_Pj_city_water\\ALL\\S1_alamo.xlsx\", header=None)"
   ]
  },
  {
   "cell_type": "code",
   "execution_count": 7,
   "id": "82877042",
   "metadata": {},
   "outputs": [],
   "source": [
    "S1_berkley = pd.read_excel(r\"C:\\Users\\detro\\Desktop\\Edited_Pj_city_water\\ALL\\S1_berkley.xlsx\", header=None)"
   ]
  },
  {
   "cell_type": "code",
   "execution_count": 8,
   "id": "1166368c",
   "metadata": {},
   "outputs": [],
   "source": [
    "S1_crockett = pd.read_excel(r\"C:\\Users\\detro\\Desktop\\Edited_Pj_city_water\\ALL\\S1_crockett.xlsx\", header=None)"
   ]
  },
  {
   "cell_type": "code",
   "execution_count": 9,
   "id": "dc751f6f",
   "metadata": {},
   "outputs": [],
   "source": [
    "S1_danville = pd.read_excel(r\"C:\\Users\\detro\\Desktop\\Edited_Pj_city_water\\ALL\\S1_danville.xlsx\", header=None)"
   ]
  },
  {
   "cell_type": "code",
   "execution_count": 10,
   "id": "d8076446",
   "metadata": {},
   "outputs": [],
   "source": [
    "S1_hercules = pd.read_excel(r\"C:\\Users\\detro\\Desktop\\Edited_Pj_city_water\\ALL\\S1_hercules .xlsx\", header=None)"
   ]
  },
  {
   "cell_type": "code",
   "execution_count": 11,
   "id": "f57985ba",
   "metadata": {},
   "outputs": [],
   "source": [
    "S1_leandro = pd.read_excel(r\"C:\\Users\\detro\\Desktop\\Edited_Pj_city_water\\ALL\\S1_leandro.xlsx\", header=None)"
   ]
  },
  {
   "cell_type": "code",
   "execution_count": 12,
   "id": "c06488c3",
   "metadata": {},
   "outputs": [],
   "source": [
    "S1_lorenzo = pd.read_excel(r\"C:\\Users\\detro\\Desktop\\Edited_Pj_city_water\\ALL\\S1_lorenzo.xlsx\", header=None)"
   ]
  },
  {
   "cell_type": "code",
   "execution_count": 13,
   "id": "6d382fb6",
   "metadata": {},
   "outputs": [],
   "source": [
    "S1_moraga = pd.read_excel(r\"C:\\Users\\detro\\Desktop\\Edited_Pj_city_water\\ALL\\S1_moraga .xlsx\", header=None)"
   ]
  },
  {
   "cell_type": "code",
   "execution_count": 14,
   "id": "44421ca6",
   "metadata": {},
   "outputs": [],
   "source": [
    "S1_oakland_a1 = pd.read_excel(r\"C:\\Users\\detro\\Desktop\\Edited_Pj_city_water\\ALL\\S1_oakland_a1.xlsx\", header=None)"
   ]
  },
  {
   "cell_type": "code",
   "execution_count": 15,
   "id": "10da2296",
   "metadata": {},
   "outputs": [],
   "source": [
    "S1_oakland_a2 = pd.read_excel(r\"C:\\Users\\detro\\Desktop\\Edited_Pj_city_water\\ALL\\S1_oakland_a2.xlsx\", header=None)"
   ]
  },
  {
   "cell_type": "code",
   "execution_count": 16,
   "id": "2b8e1aa8",
   "metadata": {},
   "outputs": [],
   "source": [
    "S1_oakland_a3 = pd.read_excel(r\"C:\\Users\\detro\\Desktop\\Edited_Pj_city_water\\ALL\\S1_oakland_a3.xlsx\", header=None)"
   ]
  },
  {
   "cell_type": "code",
   "execution_count": 17,
   "id": "8da00531",
   "metadata": {},
   "outputs": [],
   "source": [
    "S1_oakland_b1 = pd.read_excel(r\"C:\\Users\\detro\\Desktop\\Edited_Pj_city_water\\ALL\\S1_oakland_b1.xlsx\", header=None)"
   ]
  },
  {
   "cell_type": "code",
   "execution_count": 18,
   "id": "53a9ae64",
   "metadata": {},
   "outputs": [],
   "source": [
    "S1_oakland_b2 = pd.read_excel(r\"C:\\Users\\detro\\Desktop\\Edited_Pj_city_water\\ALL\\S1_oakland_b2.xlsx\", header=None)"
   ]
  },
  {
   "cell_type": "code",
   "execution_count": 19,
   "id": "2f256ea2",
   "metadata": {},
   "outputs": [],
   "source": [
    "S1_oakland_b3 = pd.read_excel(r\"C:\\Users\\detro\\Desktop\\Edited_Pj_city_water\\ALL\\S1_oakland_b3.xlsx\", header=None)"
   ]
  },
  {
   "cell_type": "code",
   "execution_count": 20,
   "id": "ab876611",
   "metadata": {},
   "outputs": [],
   "source": [
    "S1_orinda = pd.read_excel(r\"C:\\Users\\detro\\Desktop\\Edited_Pj_city_water\\ALL\\S1_orinda .xlsx\", header=None)"
   ]
  },
  {
   "cell_type": "code",
   "execution_count": 21,
   "id": "12434e2a",
   "metadata": {},
   "outputs": [],
   "source": [
    "S1_pablo = pd.read_excel(r\"C:\\Users\\detro\\Desktop\\Edited_Pj_city_water\\ALL\\S1_pablo .xlsx\", header=None)"
   ]
  },
  {
   "cell_type": "code",
   "execution_count": 22,
   "id": "8e7472d7",
   "metadata": {},
   "outputs": [],
   "source": [
    "S1_richmond = pd.read_excel(r\"C:\\Users\\detro\\Desktop\\Edited_Pj_city_water\\ALL\\S1_richmond.xlsx\", header=None)"
   ]
  },
  {
   "cell_type": "code",
   "execution_count": 23,
   "id": "d5a97449",
   "metadata": {},
   "outputs": [],
   "source": [
    "S1_selby = pd.read_excel(r\"C:\\Users\\detro\\Desktop\\Edited_Pj_city_water\\ALL\\S1_selby.xlsx\", header=None)"
   ]
  },
  {
   "cell_type": "code",
   "execution_count": 24,
   "id": "6166a1df",
   "metadata": {},
   "outputs": [],
   "source": [
    "S1_sobrante = pd.read_excel(r\"C:\\Users\\detro\\Desktop\\Edited_Pj_city_water\\ALL\\S1_sobrante.xlsx\", header=None)"
   ]
  },
  {
   "cell_type": "code",
   "execution_count": 25,
   "id": "a6a110f7",
   "metadata": {},
   "outputs": [],
   "source": [
    "S1_wc = pd.read_excel(r\"C:\\Users\\detro\\Desktop\\Edited_Pj_city_water\\ALL\\S1_wc .xlsx\", header=None)"
   ]
  },
  {
   "cell_type": "code",
   "execution_count": 26,
   "id": "da2aa613",
   "metadata": {},
   "outputs": [],
   "source": [
    "S2_alameda = pd.read_excel(r\"C:\\Users\\detro\\Desktop\\Edited_Pj_city_water\\ALL\\S2_alameda.xlsx\", header=None)"
   ]
  },
  {
   "cell_type": "code",
   "execution_count": 27,
   "id": "9184222a",
   "metadata": {},
   "outputs": [],
   "source": [
    "S2_alamo = pd.read_excel(r\"C:\\Users\\detro\\Desktop\\Edited_Pj_city_water\\ALL\\S2_alamo.xlsx\", header=None)"
   ]
  },
  {
   "cell_type": "code",
   "execution_count": 28,
   "id": "6fc95462",
   "metadata": {},
   "outputs": [],
   "source": [
    "S2_berkeley = pd.read_excel(r\"C:\\Users\\detro\\Desktop\\Edited_Pj_city_water\\ALL\\S2_berkeley .xlsx\", header=None)"
   ]
  },
  {
   "cell_type": "code",
   "execution_count": 29,
   "id": "02d5a946",
   "metadata": {},
   "outputs": [],
   "source": [
    "S2_crockett = pd.read_excel(r\"C:\\Users\\detro\\Desktop\\Edited_Pj_city_water\\ALL\\S2_crockett.xlsx\", header=None)"
   ]
  },
  {
   "cell_type": "code",
   "execution_count": 30,
   "id": "efb48fa9",
   "metadata": {},
   "outputs": [],
   "source": [
    "S2_danville = pd.read_excel(r\"C:\\Users\\detro\\Desktop\\Edited_Pj_city_water\\ALL\\S2_danville.xlsx\", header=None)"
   ]
  },
  {
   "cell_type": "code",
   "execution_count": 31,
   "id": "e09f596a",
   "metadata": {},
   "outputs": [],
   "source": [
    "S2_hercules = pd.read_excel(r\"C:\\Users\\detro\\Desktop\\Edited_Pj_city_water\\ALL\\S2_hercules.xlsx\", header=None)"
   ]
  },
  {
   "cell_type": "code",
   "execution_count": 32,
   "id": "6303f9de",
   "metadata": {},
   "outputs": [],
   "source": [
    "S2_leandro = pd.read_excel(r\"C:\\Users\\detro\\Desktop\\Edited_Pj_city_water\\ALL\\S2_leandro .xlsx\", header=None)"
   ]
  },
  {
   "cell_type": "code",
   "execution_count": 33,
   "id": "3745ab1e",
   "metadata": {},
   "outputs": [],
   "source": [
    "S2_lorenzo = pd.read_excel(r\"C:\\Users\\detro\\Desktop\\Edited_Pj_city_water\\ALL\\S2_lorenzo .xlsx\", header=None)"
   ]
  },
  {
   "cell_type": "code",
   "execution_count": 34,
   "id": "9f54a0eb",
   "metadata": {},
   "outputs": [],
   "source": [
    "S2_moraga = pd.read_excel(r\"C:\\Users\\detro\\Desktop\\Edited_Pj_city_water\\ALL\\S2_moraga.xlsx\", header=None)"
   ]
  },
  {
   "cell_type": "code",
   "execution_count": 35,
   "id": "bbec97ec",
   "metadata": {},
   "outputs": [],
   "source": [
    "S2_oakland = pd.read_excel(r\"C:\\Users\\detro\\Desktop\\Edited_Pj_city_water\\ALL\\S2_oakland .xlsx\", header=None)"
   ]
  },
  {
   "cell_type": "code",
   "execution_count": 36,
   "id": "78288d0e",
   "metadata": {},
   "outputs": [],
   "source": [
    "S2_orinda = pd.read_excel(r\"C:\\Users\\detro\\Desktop\\Edited_Pj_city_water\\ALL\\S2_orinda .xlsx\", header=None)"
   ]
  },
  {
   "cell_type": "code",
   "execution_count": 37,
   "id": "4790dfb1",
   "metadata": {},
   "outputs": [],
   "source": [
    "S2_pablo = pd.read_excel(r\"C:\\Users\\detro\\Desktop\\Edited_Pj_city_water\\ALL\\S2_pablo.xlsx\", header=None)"
   ]
  },
  {
   "cell_type": "code",
   "execution_count": 38,
   "id": "73f821c8",
   "metadata": {},
   "outputs": [],
   "source": [
    "s2_richmond = pd.read_excel(r\"C:\\Users\\detro\\Desktop\\Edited_Pj_city_water\\ALL\\s2_richmond.xlsx\", header=None)"
   ]
  },
  {
   "cell_type": "code",
   "execution_count": 39,
   "id": "d3f899b2",
   "metadata": {},
   "outputs": [],
   "source": [
    "S2_selby = pd.read_excel(r\"C:\\Users\\detro\\Desktop\\Edited_Pj_city_water\\ALL\\S2_selby .xlsx\", header=None)"
   ]
  },
  {
   "cell_type": "code",
   "execution_count": 40,
   "id": "700e834d",
   "metadata": {},
   "outputs": [],
   "source": [
    "S2_sobrante = pd.read_excel(r\"C:\\Users\\detro\\Desktop\\Edited_Pj_city_water\\ALL\\S2_sobrante.xlsx\", header=None)"
   ]
  },
  {
   "cell_type": "code",
   "execution_count": 41,
   "id": "f1eca3fc",
   "metadata": {},
   "outputs": [],
   "source": [
    "S2_wc = pd.read_excel(r\"C:\\Users\\detro\\Desktop\\Edited_Pj_city_water\\ALL\\S2_wc.xlsx\", header=None)"
   ]
  },
  {
   "cell_type": "code",
   "execution_count": 45,
   "id": "2297fa66",
   "metadata": {},
   "outputs": [
    {
     "data": {
      "text/html": [
       "<div>\n",
       "<style scoped>\n",
       "    .dataframe tbody tr th:only-of-type {\n",
       "        vertical-align: middle;\n",
       "    }\n",
       "\n",
       "    .dataframe tbody tr th {\n",
       "        vertical-align: top;\n",
       "    }\n",
       "\n",
       "    .dataframe thead th {\n",
       "        text-align: right;\n",
       "    }\n",
       "</style>\n",
       "<table border=\"1\" class=\"dataframe\">\n",
       "  <thead>\n",
       "    <tr style=\"text-align: right;\">\n",
       "      <th></th>\n",
       "      <th>0</th>\n",
       "      <th>1</th>\n",
       "      <th>2</th>\n",
       "      <th>3</th>\n",
       "      <th>4</th>\n",
       "      <th>5</th>\n",
       "      <th>6</th>\n",
       "      <th>7</th>\n",
       "    </tr>\n",
       "  </thead>\n",
       "  <tbody>\n",
       "    <tr>\n",
       "      <th>0</th>\n",
       "      <td>Pseudo ID</td>\n",
       "      <td>BCC</td>\n",
       "      <td>BEGIN_DATE</td>\n",
       "      <td>END_DATE</td>\n",
       "      <td>CCF</td>\n",
       "      <td>ELEVATION_BAND</td>\n",
       "      <td>CITY_NAME</td>\n",
       "      <td>ZIP_CODE</td>\n",
       "    </tr>\n",
       "    <tr>\n",
       "      <th>1</th>\n",
       "      <td>94501-1</td>\n",
       "      <td>8800</td>\n",
       "      <td>12/8/2015</td>\n",
       "      <td>2/10/2016</td>\n",
       "      <td>4.000</td>\n",
       "      <td>1</td>\n",
       "      <td>Alameda</td>\n",
       "      <td>945014615</td>\n",
       "    </tr>\n",
       "    <tr>\n",
       "      <th>2</th>\n",
       "      <td>94501-1</td>\n",
       "      <td>8800</td>\n",
       "      <td>2/10/2016</td>\n",
       "      <td>4/9/2016</td>\n",
       "      <td>4.000</td>\n",
       "      <td>1</td>\n",
       "      <td>Alameda</td>\n",
       "      <td>945014615</td>\n",
       "    </tr>\n",
       "    <tr>\n",
       "      <th>3</th>\n",
       "      <td>94501-1</td>\n",
       "      <td>8800</td>\n",
       "      <td>10/7/2015</td>\n",
       "      <td>12/8/2015</td>\n",
       "      <td>5.000</td>\n",
       "      <td>1</td>\n",
       "      <td>Alameda</td>\n",
       "      <td>945014615</td>\n",
       "    </tr>\n",
       "    <tr>\n",
       "      <th>4</th>\n",
       "      <td>94501-1</td>\n",
       "      <td>8800</td>\n",
       "      <td>8/7/2015</td>\n",
       "      <td>10/7/2015</td>\n",
       "      <td>4.000</td>\n",
       "      <td>1</td>\n",
       "      <td>Alameda</td>\n",
       "      <td>945014615</td>\n",
       "    </tr>\n",
       "  </tbody>\n",
       "</table>\n",
       "</div>"
      ],
      "text/plain": [
       "           0     1           2          3      4               5          6  \\\n",
       "0  Pseudo ID   BCC  BEGIN_DATE   END_DATE    CCF  ELEVATION_BAND  CITY_NAME   \n",
       "1    94501-1  8800   12/8/2015  2/10/2016  4.000               1    Alameda   \n",
       "2    94501-1  8800   2/10/2016   4/9/2016  4.000               1    Alameda   \n",
       "3    94501-1  8800   10/7/2015  12/8/2015  5.000               1    Alameda   \n",
       "4    94501-1  8800    8/7/2015  10/7/2015  4.000               1    Alameda   \n",
       "\n",
       "           7  \n",
       "0   ZIP_CODE  \n",
       "1  945014615  \n",
       "2  945014615  \n",
       "3  945014615  \n",
       "4  945014615  "
      ]
     },
     "execution_count": 45,
     "metadata": {},
     "output_type": "execute_result"
    }
   ],
   "source": [
    "S2_alameda.head()"
   ]
  },
  {
   "cell_type": "code",
   "execution_count": 44,
   "id": "db139cd1",
   "metadata": {},
   "outputs": [],
   "source": [
    "#Drop first row of S2 dataframes to remove residual header information. "
   ]
  },
  {
   "cell_type": "code",
   "execution_count": 47,
   "id": "62b2b1e8",
   "metadata": {},
   "outputs": [],
   "source": [
    "S2_alameda = S2_alameda.iloc[1:]"
   ]
  },
  {
   "cell_type": "code",
   "execution_count": 48,
   "id": "91db115f",
   "metadata": {},
   "outputs": [
    {
     "data": {
      "text/html": [
       "<div>\n",
       "<style scoped>\n",
       "    .dataframe tbody tr th:only-of-type {\n",
       "        vertical-align: middle;\n",
       "    }\n",
       "\n",
       "    .dataframe tbody tr th {\n",
       "        vertical-align: top;\n",
       "    }\n",
       "\n",
       "    .dataframe thead th {\n",
       "        text-align: right;\n",
       "    }\n",
       "</style>\n",
       "<table border=\"1\" class=\"dataframe\">\n",
       "  <thead>\n",
       "    <tr style=\"text-align: right;\">\n",
       "      <th></th>\n",
       "      <th>0</th>\n",
       "      <th>1</th>\n",
       "      <th>2</th>\n",
       "      <th>3</th>\n",
       "      <th>4</th>\n",
       "      <th>5</th>\n",
       "      <th>6</th>\n",
       "      <th>7</th>\n",
       "    </tr>\n",
       "  </thead>\n",
       "  <tbody>\n",
       "    <tr>\n",
       "      <th>1</th>\n",
       "      <td>94501-1</td>\n",
       "      <td>8800</td>\n",
       "      <td>12/8/2015</td>\n",
       "      <td>2/10/2016</td>\n",
       "      <td>4.000</td>\n",
       "      <td>1</td>\n",
       "      <td>Alameda</td>\n",
       "      <td>945014615</td>\n",
       "    </tr>\n",
       "    <tr>\n",
       "      <th>2</th>\n",
       "      <td>94501-1</td>\n",
       "      <td>8800</td>\n",
       "      <td>2/10/2016</td>\n",
       "      <td>4/9/2016</td>\n",
       "      <td>4.000</td>\n",
       "      <td>1</td>\n",
       "      <td>Alameda</td>\n",
       "      <td>945014615</td>\n",
       "    </tr>\n",
       "    <tr>\n",
       "      <th>3</th>\n",
       "      <td>94501-1</td>\n",
       "      <td>8800</td>\n",
       "      <td>10/7/2015</td>\n",
       "      <td>12/8/2015</td>\n",
       "      <td>5.000</td>\n",
       "      <td>1</td>\n",
       "      <td>Alameda</td>\n",
       "      <td>945014615</td>\n",
       "    </tr>\n",
       "    <tr>\n",
       "      <th>4</th>\n",
       "      <td>94501-1</td>\n",
       "      <td>8800</td>\n",
       "      <td>8/7/2015</td>\n",
       "      <td>10/7/2015</td>\n",
       "      <td>4.000</td>\n",
       "      <td>1</td>\n",
       "      <td>Alameda</td>\n",
       "      <td>945014615</td>\n",
       "    </tr>\n",
       "    <tr>\n",
       "      <th>5</th>\n",
       "      <td>94501-1</td>\n",
       "      <td>8800</td>\n",
       "      <td>6/9/2015</td>\n",
       "      <td>8/7/2015</td>\n",
       "      <td>3.000</td>\n",
       "      <td>1</td>\n",
       "      <td>Alameda</td>\n",
       "      <td>945014615</td>\n",
       "    </tr>\n",
       "  </tbody>\n",
       "</table>\n",
       "</div>"
      ],
      "text/plain": [
       "         0     1          2          3      4  5        6          7\n",
       "1  94501-1  8800  12/8/2015  2/10/2016  4.000  1  Alameda  945014615\n",
       "2  94501-1  8800  2/10/2016   4/9/2016  4.000  1  Alameda  945014615\n",
       "3  94501-1  8800  10/7/2015  12/8/2015  5.000  1  Alameda  945014615\n",
       "4  94501-1  8800   8/7/2015  10/7/2015  4.000  1  Alameda  945014615\n",
       "5  94501-1  8800   6/9/2015   8/7/2015  3.000  1  Alameda  945014615"
      ]
     },
     "execution_count": 48,
     "metadata": {},
     "output_type": "execute_result"
    }
   ],
   "source": [
    "#Checking that the method worked. \n",
    "S2_alameda.head()"
   ]
  },
  {
   "cell_type": "code",
   "execution_count": 49,
   "id": "ecdb3eff",
   "metadata": {},
   "outputs": [],
   "source": [
    "#Drop for the rest of S2."
   ]
  },
  {
   "cell_type": "code",
   "execution_count": 51,
   "id": "4598e9c6",
   "metadata": {},
   "outputs": [],
   "source": [
    "S2_alamo = S2_alamo.iloc[1:]\n",
    "S2_berkeley = S2_berkeley.iloc[1:]\n",
    "S2_crockett = S2_crockett.iloc[1:]\n",
    "S2_danville = S2_danville.iloc[1:]\n",
    "S2_hercules = S2_hercules.iloc[1:]\n",
    "S2_leandro = S2_leandro.iloc[1:]\n",
    "S2_lorenzo = S2_lorenzo.iloc[1:]\n",
    "S2_moraga = S2_moraga.iloc[1:]\n",
    "S2_oakland = S2_oakland.iloc[1:]\n",
    "S2_orinda = S2_orinda.iloc[1:]\n",
    "S2_pablo = S2_pablo.iloc[1:]\n",
    "s2_richmond = s2_richmond.iloc[1:]\n",
    "S2_selby = S2_selby.iloc[1:]\n",
    "S2_sobrante = S2_sobrante.iloc[1:]\n",
    "S2_wc = S2_wc.iloc[1:]"
   ]
  },
  {
   "cell_type": "code",
   "execution_count": 52,
   "id": "fbc74fe2",
   "metadata": {},
   "outputs": [
    {
     "data": {
      "text/html": [
       "<div>\n",
       "<style scoped>\n",
       "    .dataframe tbody tr th:only-of-type {\n",
       "        vertical-align: middle;\n",
       "    }\n",
       "\n",
       "    .dataframe tbody tr th {\n",
       "        vertical-align: top;\n",
       "    }\n",
       "\n",
       "    .dataframe thead th {\n",
       "        text-align: right;\n",
       "    }\n",
       "</style>\n",
       "<table border=\"1\" class=\"dataframe\">\n",
       "  <thead>\n",
       "    <tr style=\"text-align: right;\">\n",
       "      <th></th>\n",
       "      <th>0</th>\n",
       "      <th>1</th>\n",
       "      <th>2</th>\n",
       "      <th>3</th>\n",
       "      <th>4</th>\n",
       "      <th>5</th>\n",
       "      <th>6</th>\n",
       "      <th>7</th>\n",
       "    </tr>\n",
       "  </thead>\n",
       "  <tbody>\n",
       "    <tr>\n",
       "      <th>1</th>\n",
       "      <td>94547-2</td>\n",
       "      <td>8800</td>\n",
       "      <td>6/2/2015</td>\n",
       "      <td>7/31/2015</td>\n",
       "      <td>20.000</td>\n",
       "      <td>1</td>\n",
       "      <td>Hercules</td>\n",
       "      <td>945471651</td>\n",
       "    </tr>\n",
       "    <tr>\n",
       "      <th>2</th>\n",
       "      <td>94547-2</td>\n",
       "      <td>8800</td>\n",
       "      <td>7/31/2015</td>\n",
       "      <td>9/30/2015</td>\n",
       "      <td>19.000</td>\n",
       "      <td>1</td>\n",
       "      <td>Hercules</td>\n",
       "      <td>945471651</td>\n",
       "    </tr>\n",
       "    <tr>\n",
       "      <th>3</th>\n",
       "      <td>94547-2</td>\n",
       "      <td>8800</td>\n",
       "      <td>9/30/2015</td>\n",
       "      <td>12/1/2015</td>\n",
       "      <td>10.000</td>\n",
       "      <td>1</td>\n",
       "      <td>Hercules</td>\n",
       "      <td>945471651</td>\n",
       "    </tr>\n",
       "    <tr>\n",
       "      <th>4</th>\n",
       "      <td>94547-2</td>\n",
       "      <td>8800</td>\n",
       "      <td>12/1/2015</td>\n",
       "      <td>2/2/2016</td>\n",
       "      <td>2.000</td>\n",
       "      <td>1</td>\n",
       "      <td>Hercules</td>\n",
       "      <td>945471651</td>\n",
       "    </tr>\n",
       "    <tr>\n",
       "      <th>5</th>\n",
       "      <td>94547-2</td>\n",
       "      <td>8800</td>\n",
       "      <td>2/2/2016</td>\n",
       "      <td>4/1/2016</td>\n",
       "      <td>7.000</td>\n",
       "      <td>1</td>\n",
       "      <td>Hercules</td>\n",
       "      <td>945471651</td>\n",
       "    </tr>\n",
       "  </tbody>\n",
       "</table>\n",
       "</div>"
      ],
      "text/plain": [
       "         0     1          2          3       4  5         6          7\n",
       "1  94547-2  8800   6/2/2015  7/31/2015  20.000  1  Hercules  945471651\n",
       "2  94547-2  8800  7/31/2015  9/30/2015  19.000  1  Hercules  945471651\n",
       "3  94547-2  8800  9/30/2015  12/1/2015  10.000  1  Hercules  945471651\n",
       "4  94547-2  8800  12/1/2015   2/2/2016   2.000  1  Hercules  945471651\n",
       "5  94547-2  8800   2/2/2016   4/1/2016   7.000  1  Hercules  945471651"
      ]
     },
     "execution_count": 52,
     "metadata": {},
     "output_type": "execute_result"
    }
   ],
   "source": [
    "#Checking to make sure method worked properly. \n",
    "S2_hercules.head()"
   ]
  },
  {
   "cell_type": "code",
   "execution_count": 53,
   "id": "5f71b589",
   "metadata": {},
   "outputs": [
    {
     "data": {
      "text/html": [
       "<div>\n",
       "<style scoped>\n",
       "    .dataframe tbody tr th:only-of-type {\n",
       "        vertical-align: middle;\n",
       "    }\n",
       "\n",
       "    .dataframe tbody tr th {\n",
       "        vertical-align: top;\n",
       "    }\n",
       "\n",
       "    .dataframe thead th {\n",
       "        text-align: right;\n",
       "    }\n",
       "</style>\n",
       "<table border=\"1\" class=\"dataframe\">\n",
       "  <thead>\n",
       "    <tr style=\"text-align: right;\">\n",
       "      <th></th>\n",
       "      <th>0</th>\n",
       "      <th>1</th>\n",
       "      <th>2</th>\n",
       "      <th>3</th>\n",
       "      <th>4</th>\n",
       "      <th>5</th>\n",
       "      <th>6</th>\n",
       "      <th>7</th>\n",
       "    </tr>\n",
       "  </thead>\n",
       "  <tbody>\n",
       "    <tr>\n",
       "      <th>1</th>\n",
       "      <td>94556-1</td>\n",
       "      <td>8800</td>\n",
       "      <td>2/5/2016</td>\n",
       "      <td>4/5/2016</td>\n",
       "      <td>13.000</td>\n",
       "      <td>2</td>\n",
       "      <td>Moraga</td>\n",
       "      <td>945561026</td>\n",
       "    </tr>\n",
       "    <tr>\n",
       "      <th>2</th>\n",
       "      <td>94556-1</td>\n",
       "      <td>8800</td>\n",
       "      <td>12/3/2015</td>\n",
       "      <td>2/5/2016</td>\n",
       "      <td>32.000</td>\n",
       "      <td>2</td>\n",
       "      <td>Moraga</td>\n",
       "      <td>945561026</td>\n",
       "    </tr>\n",
       "    <tr>\n",
       "      <th>3</th>\n",
       "      <td>94556-1</td>\n",
       "      <td>8800</td>\n",
       "      <td>10/2/2015</td>\n",
       "      <td>12/3/2015</td>\n",
       "      <td>8.000</td>\n",
       "      <td>2</td>\n",
       "      <td>Moraga</td>\n",
       "      <td>945561026</td>\n",
       "    </tr>\n",
       "    <tr>\n",
       "      <th>4</th>\n",
       "      <td>94556-1</td>\n",
       "      <td>8800</td>\n",
       "      <td>8/4/2015</td>\n",
       "      <td>10/2/2015</td>\n",
       "      <td>9.000</td>\n",
       "      <td>2</td>\n",
       "      <td>Moraga</td>\n",
       "      <td>945561026</td>\n",
       "    </tr>\n",
       "    <tr>\n",
       "      <th>5</th>\n",
       "      <td>94556-1</td>\n",
       "      <td>8800</td>\n",
       "      <td>6/4/2015</td>\n",
       "      <td>8/4/2015</td>\n",
       "      <td>9.000</td>\n",
       "      <td>2</td>\n",
       "      <td>Moraga</td>\n",
       "      <td>945561026</td>\n",
       "    </tr>\n",
       "  </tbody>\n",
       "</table>\n",
       "</div>"
      ],
      "text/plain": [
       "         0     1          2          3       4  5       6          7\n",
       "1  94556-1  8800   2/5/2016   4/5/2016  13.000  2  Moraga  945561026\n",
       "2  94556-1  8800  12/3/2015   2/5/2016  32.000  2  Moraga  945561026\n",
       "3  94556-1  8800  10/2/2015  12/3/2015   8.000  2  Moraga  945561026\n",
       "4  94556-1  8800   8/4/2015  10/2/2015   9.000  2  Moraga  945561026\n",
       "5  94556-1  8800   6/4/2015   8/4/2015   9.000  2  Moraga  945561026"
      ]
     },
     "execution_count": 53,
     "metadata": {},
     "output_type": "execute_result"
    }
   ],
   "source": [
    "S2_moraga.head()"
   ]
  },
  {
   "cell_type": "code",
   "execution_count": 54,
   "id": "5f248280",
   "metadata": {},
   "outputs": [],
   "source": [
    "# Concat the data frames into a single new frame named water_use\n",
    "\n",
    "frames = [S1_alameda, S1_alamo, S1_berkley, S1_crockett, S1_danville, S1_hercules, S1_leandro, S1_lorenzo, S1_moraga, \n",
    "         S1_oakland_a1, S1_oakland_a2, S1_oakland_a3, S1_oakland_b1, S1_oakland_b2, S1_oakland_b3 , S1_orinda, S1_pablo, \n",
    "         S1_richmond, S1_selby, S1_sobrante, S1_wc, S2_alameda, S2_alamo, S2_berkeley, S2_crockett, S2_danville, S2_hercules, \n",
    "         S2_leandro, S2_lorenzo, S2_moraga, S2_oakland, S2_orinda, S2_pablo, s2_richmond, S2_selby, S2_sobrante, S2_wc]\n",
    "water_use = pd.concat(frames)"
   ]
  },
  {
   "cell_type": "code",
   "execution_count": 56,
   "id": "3d20dd07",
   "metadata": {},
   "outputs": [
    {
     "data": {
      "text/plain": [
       "0         8\n",
       "1         8\n",
       "2         8\n",
       "3         8\n",
       "4         8\n",
       "         ..\n",
       "108299    8\n",
       "108300    8\n",
       "108301    8\n",
       "108302    8\n",
       "108303    8\n",
       "Length: 10544323, dtype: int64"
      ]
     },
     "execution_count": 56,
     "metadata": {},
     "output_type": "execute_result"
    }
   ],
   "source": [
    "# Count in order to see if we have an appropriate number of rows. We 10.5 million rows, seems correct. \n",
    "\n",
    "water_use.count(axis=1)"
   ]
  },
  {
   "cell_type": "code",
   "execution_count": 57,
   "id": "aba77696",
   "metadata": {},
   "outputs": [],
   "source": []
  },
  {
   "cell_type": "code",
   "execution_count": 58,
   "id": "e7d335f5",
   "metadata": {},
   "outputs": [
    {
     "data": {
      "text/html": [
       "<div>\n",
       "<style scoped>\n",
       "    .dataframe tbody tr th:only-of-type {\n",
       "        vertical-align: middle;\n",
       "    }\n",
       "\n",
       "    .dataframe tbody tr th {\n",
       "        vertical-align: top;\n",
       "    }\n",
       "\n",
       "    .dataframe thead th {\n",
       "        text-align: right;\n",
       "    }\n",
       "</style>\n",
       "<table border=\"1\" class=\"dataframe\">\n",
       "  <thead>\n",
       "    <tr style=\"text-align: right;\">\n",
       "      <th></th>\n",
       "      <th>Pseudo_ID</th>\n",
       "      <th>Customer_Type</th>\n",
       "      <th>Start_Date</th>\n",
       "      <th>End_Date</th>\n",
       "      <th>CCF Used</th>\n",
       "      <th>Elevation_Code</th>\n",
       "      <th>City</th>\n",
       "      <th>Zip_Code</th>\n",
       "    </tr>\n",
       "  </thead>\n",
       "  <tbody>\n",
       "    <tr>\n",
       "      <th>0</th>\n",
       "      <td>94502-4797</td>\n",
       "      <td>8800</td>\n",
       "      <td>2012-04-05 00:00:00</td>\n",
       "      <td>2012-06-05 00:00:00</td>\n",
       "      <td>26</td>\n",
       "      <td>1</td>\n",
       "      <td>Alameda</td>\n",
       "      <td>945027714</td>\n",
       "    </tr>\n",
       "    <tr>\n",
       "      <th>1</th>\n",
       "      <td>94502-4797</td>\n",
       "      <td>8800</td>\n",
       "      <td>2012-06-05 00:00:00</td>\n",
       "      <td>2012-08-03 00:00:00</td>\n",
       "      <td>32</td>\n",
       "      <td>1</td>\n",
       "      <td>Alameda</td>\n",
       "      <td>945027714</td>\n",
       "    </tr>\n",
       "    <tr>\n",
       "      <th>2</th>\n",
       "      <td>94502-4797</td>\n",
       "      <td>8800</td>\n",
       "      <td>2012-08-03 00:00:00</td>\n",
       "      <td>2012-10-03 00:00:00</td>\n",
       "      <td>30</td>\n",
       "      <td>1</td>\n",
       "      <td>Alameda</td>\n",
       "      <td>945027714</td>\n",
       "    </tr>\n",
       "    <tr>\n",
       "      <th>3</th>\n",
       "      <td>94502-4797</td>\n",
       "      <td>8800</td>\n",
       "      <td>2012-10-03 00:00:00</td>\n",
       "      <td>2012-12-04 00:00:00</td>\n",
       "      <td>21</td>\n",
       "      <td>1</td>\n",
       "      <td>Alameda</td>\n",
       "      <td>945027714</td>\n",
       "    </tr>\n",
       "    <tr>\n",
       "      <th>4</th>\n",
       "      <td>94502-4797</td>\n",
       "      <td>8800</td>\n",
       "      <td>2012-12-04 00:00:00</td>\n",
       "      <td>2013-02-05 00:00:00</td>\n",
       "      <td>20</td>\n",
       "      <td>1</td>\n",
       "      <td>Alameda</td>\n",
       "      <td>945027714</td>\n",
       "    </tr>\n",
       "    <tr>\n",
       "      <th>5</th>\n",
       "      <td>94502-4797</td>\n",
       "      <td>8800</td>\n",
       "      <td>2013-02-05 00:00:00</td>\n",
       "      <td>2013-04-08 00:00:00</td>\n",
       "      <td>29</td>\n",
       "      <td>1</td>\n",
       "      <td>Alameda</td>\n",
       "      <td>945027714</td>\n",
       "    </tr>\n",
       "    <tr>\n",
       "      <th>6</th>\n",
       "      <td>94502-4797</td>\n",
       "      <td>8800</td>\n",
       "      <td>2013-04-08 00:00:00</td>\n",
       "      <td>2013-06-07 00:00:00</td>\n",
       "      <td>26</td>\n",
       "      <td>1</td>\n",
       "      <td>Alameda</td>\n",
       "      <td>945027714</td>\n",
       "    </tr>\n",
       "    <tr>\n",
       "      <th>7</th>\n",
       "      <td>94502-4797</td>\n",
       "      <td>8800</td>\n",
       "      <td>2013-06-07 00:00:00</td>\n",
       "      <td>2013-08-06 00:00:00</td>\n",
       "      <td>30</td>\n",
       "      <td>1</td>\n",
       "      <td>Alameda</td>\n",
       "      <td>945027714</td>\n",
       "    </tr>\n",
       "    <tr>\n",
       "      <th>8</th>\n",
       "      <td>94502-4797</td>\n",
       "      <td>8800</td>\n",
       "      <td>2013-08-06 00:00:00</td>\n",
       "      <td>2013-10-04 00:00:00</td>\n",
       "      <td>32</td>\n",
       "      <td>1</td>\n",
       "      <td>Alameda</td>\n",
       "      <td>945027714</td>\n",
       "    </tr>\n",
       "    <tr>\n",
       "      <th>9</th>\n",
       "      <td>94502-4797</td>\n",
       "      <td>8800</td>\n",
       "      <td>2013-10-04 00:00:00</td>\n",
       "      <td>2013-12-03 00:00:00</td>\n",
       "      <td>35</td>\n",
       "      <td>1</td>\n",
       "      <td>Alameda</td>\n",
       "      <td>945027714</td>\n",
       "    </tr>\n",
       "  </tbody>\n",
       "</table>\n",
       "</div>"
      ],
      "text/plain": [
       "    Pseudo_ID Customer_Type           Start_Date             End_Date  \\\n",
       "0  94502-4797          8800  2012-04-05 00:00:00  2012-06-05 00:00:00   \n",
       "1  94502-4797          8800  2012-06-05 00:00:00  2012-08-03 00:00:00   \n",
       "2  94502-4797          8800  2012-08-03 00:00:00  2012-10-03 00:00:00   \n",
       "3  94502-4797          8800  2012-10-03 00:00:00  2012-12-04 00:00:00   \n",
       "4  94502-4797          8800  2012-12-04 00:00:00  2013-02-05 00:00:00   \n",
       "5  94502-4797          8800  2013-02-05 00:00:00  2013-04-08 00:00:00   \n",
       "6  94502-4797          8800  2013-04-08 00:00:00  2013-06-07 00:00:00   \n",
       "7  94502-4797          8800  2013-06-07 00:00:00  2013-08-06 00:00:00   \n",
       "8  94502-4797          8800  2013-08-06 00:00:00  2013-10-04 00:00:00   \n",
       "9  94502-4797          8800  2013-10-04 00:00:00  2013-12-03 00:00:00   \n",
       "\n",
       "  CCF Used Elevation_Code     City   Zip_Code  \n",
       "0       26              1  Alameda  945027714  \n",
       "1       32              1  Alameda  945027714  \n",
       "2       30              1  Alameda  945027714  \n",
       "3       21              1  Alameda  945027714  \n",
       "4       20              1  Alameda  945027714  \n",
       "5       29              1  Alameda  945027714  \n",
       "6       26              1  Alameda  945027714  \n",
       "7       30              1  Alameda  945027714  \n",
       "8       32              1  Alameda  945027714  \n",
       "9       35              1  Alameda  945027714  "
      ]
     },
     "execution_count": 58,
     "metadata": {},
     "output_type": "execute_result"
    }
   ],
   "source": [
    "water_use.head(10)"
   ]
  },
  {
   "cell_type": "code",
   "execution_count": null,
   "id": "b12ea038",
   "metadata": {},
   "outputs": [],
   "source": []
  }
 ],
 "metadata": {
  "kernelspec": {
   "display_name": "Python 3 (ipykernel)",
   "language": "python",
   "name": "python3"
  },
  "language_info": {
   "codemirror_mode": {
    "name": "ipython",
    "version": 3
   },
   "file_extension": ".py",
   "mimetype": "text/x-python",
   "name": "python",
   "nbconvert_exporter": "python",
   "pygments_lexer": "ipython3",
   "version": "3.9.13"
  }
 },
 "nbformat": 4,
 "nbformat_minor": 5
}

{
 "cells": [
  {
   "cell_type": "code",
   "execution_count": 2,
   "id": "fd95c3b9",
   "metadata": {},
   "outputs": [],
   "source": [
    "import pandas as pd"
   ]
  },
  {
   "cell_type": "code",
   "execution_count": 3,
   "id": "5d7c52fa",
   "metadata": {},
   "outputs": [],
   "source": [
    "S1_alameda = pd.read_excel(r\"C:\\Users\\detro\\Desktop\\Edited_Pj_city_water\\ALL\\S1_alameda.xlsx\", header=None)"
   ]
  },
  {
   "cell_type": "code",
   "execution_count": 4,
   "id": "2ac6faef",
   "metadata": {},
   "outputs": [],
   "source": [
    "S1_alamo = pd.read_excel(r\"C:\\Users\\detro\\Desktop\\Edited_Pj_city_water\\ALL\\S1_alamo.xlsx\", header=None)"
   ]
  },
  {
   "cell_type": "code",
   "execution_count": 5,
   "id": "82877042",
   "metadata": {},
   "outputs": [],
   "source": [
    "S1_berkley = pd.read_excel(r\"C:\\Users\\detro\\Desktop\\Edited_Pj_city_water\\ALL\\S1_berkley.xlsx\", header=None)"
   ]
  },
  {
   "cell_type": "code",
   "execution_count": 6,
   "id": "1166368c",
   "metadata": {},
   "outputs": [],
   "source": [
    "S1_crockett = pd.read_excel(r\"C:\\Users\\detro\\Desktop\\Edited_Pj_city_water\\ALL\\S1_crockett.xlsx\", header=None)"
   ]
  },
  {
   "cell_type": "code",
   "execution_count": 7,
   "id": "dc751f6f",
   "metadata": {},
   "outputs": [],
   "source": [
    "S1_danville = pd.read_excel(r\"C:\\Users\\detro\\Desktop\\Edited_Pj_city_water\\ALL\\S1_danville.xlsx\", header=None)"
   ]
  },
  {
   "cell_type": "code",
   "execution_count": 8,
   "id": "d8076446",
   "metadata": {},
   "outputs": [],
   "source": [
    "S1_hercules = pd.read_excel(r\"C:\\Users\\detro\\Desktop\\Edited_Pj_city_water\\ALL\\S1_hercules .xlsx\", header=None)"
   ]
  },
  {
   "cell_type": "code",
   "execution_count": 9,
   "id": "f57985ba",
   "metadata": {},
   "outputs": [],
   "source": [
    "S1_leandro = pd.read_excel(r\"C:\\Users\\detro\\Desktop\\Edited_Pj_city_water\\ALL\\S1_leandro.xlsx\", header=None)"
   ]
  },
  {
   "cell_type": "code",
   "execution_count": 10,
   "id": "c06488c3",
   "metadata": {},
   "outputs": [],
   "source": [
    "S1_lorenzo = pd.read_excel(r\"C:\\Users\\detro\\Desktop\\Edited_Pj_city_water\\ALL\\S1_lorenzo.xlsx\", header=None)"
   ]
  },
  {
   "cell_type": "code",
   "execution_count": 11,
   "id": "6d382fb6",
   "metadata": {},
   "outputs": [],
   "source": [
    "S1_moraga = pd.read_excel(r\"C:\\Users\\detro\\Desktop\\Edited_Pj_city_water\\ALL\\S1_moraga .xlsx\", header=None)"
   ]
  },
  {
   "cell_type": "code",
   "execution_count": 12,
   "id": "44421ca6",
   "metadata": {},
   "outputs": [],
   "source": [
    "S1_oakland_a1 = pd.read_excel(r\"C:\\Users\\detro\\Desktop\\Edited_Pj_city_water\\ALL\\S1_oakland_a1.xlsx\", header=None)"
   ]
  },
  {
   "cell_type": "code",
   "execution_count": 13,
   "id": "10da2296",
   "metadata": {},
   "outputs": [],
   "source": [
    "S1_oakland_a2 = pd.read_excel(r\"C:\\Users\\detro\\Desktop\\Edited_Pj_city_water\\ALL\\S1_oakland_a2.xlsx\", header=None)"
   ]
  },
  {
   "cell_type": "code",
   "execution_count": 14,
   "id": "2b8e1aa8",
   "metadata": {},
   "outputs": [],
   "source": [
    "S1_oakland_a3 = pd.read_excel(r\"C:\\Users\\detro\\Desktop\\Edited_Pj_city_water\\ALL\\S1_oakland_a3.xlsx\", header=None)"
   ]
  },
  {
   "cell_type": "code",
   "execution_count": 15,
   "id": "8da00531",
   "metadata": {},
   "outputs": [],
   "source": [
    "S1_oakland_b1 = pd.read_excel(r\"C:\\Users\\detro\\Desktop\\Edited_Pj_city_water\\ALL\\S1_oakland_b1.xlsx\", header=None)"
   ]
  },
  {
   "cell_type": "code",
   "execution_count": 16,
   "id": "53a9ae64",
   "metadata": {},
   "outputs": [],
   "source": [
    "S1_oakland_b2 = pd.read_excel(r\"C:\\Users\\detro\\Desktop\\Edited_Pj_city_water\\ALL\\S1_oakland_b2.xlsx\", header=None)"
   ]
  },
  {
   "cell_type": "code",
   "execution_count": 17,
   "id": "2f256ea2",
   "metadata": {},
   "outputs": [],
   "source": [
    "S1_oakland_b3 = pd.read_excel(r\"C:\\Users\\detro\\Desktop\\Edited_Pj_city_water\\ALL\\S1_oakland_b3.xlsx\", header=None)"
   ]
  },
  {
   "cell_type": "code",
   "execution_count": 18,
   "id": "ab876611",
   "metadata": {},
   "outputs": [],
   "source": [
    "S1_orinda = pd.read_excel(r\"C:\\Users\\detro\\Desktop\\Edited_Pj_city_water\\ALL\\S1_orinda .xlsx\", header=None)"
   ]
  },
  {
   "cell_type": "code",
   "execution_count": 19,
   "id": "12434e2a",
   "metadata": {},
   "outputs": [],
   "source": [
    "S1_pablo = pd.read_excel(r\"C:\\Users\\detro\\Desktop\\Edited_Pj_city_water\\ALL\\S1_pablo .xlsx\", header=None)"
   ]
  },
  {
   "cell_type": "code",
   "execution_count": 20,
   "id": "8e7472d7",
   "metadata": {},
   "outputs": [],
   "source": [
    "S1_richmond = pd.read_excel(r\"C:\\Users\\detro\\Desktop\\Edited_Pj_city_water\\ALL\\S1_richmond.xlsx\", header=None)"
   ]
  },
  {
   "cell_type": "code",
   "execution_count": 21,
   "id": "d5a97449",
   "metadata": {},
   "outputs": [],
   "source": [
    "S1_selby = pd.read_excel(r\"C:\\Users\\detro\\Desktop\\Edited_Pj_city_water\\ALL\\S1_selby.xlsx\", header=None)"
   ]
  },
  {
   "cell_type": "code",
   "execution_count": 22,
   "id": "6166a1df",
   "metadata": {},
   "outputs": [],
   "source": [
    "S1_sobrante = pd.read_excel(r\"C:\\Users\\detro\\Desktop\\Edited_Pj_city_water\\ALL\\S1_sobrante.xlsx\", header=None)"
   ]
  },
  {
   "cell_type": "code",
   "execution_count": 23,
   "id": "a6a110f7",
   "metadata": {},
   "outputs": [],
   "source": [
    "S1_wc = pd.read_excel(r\"C:\\Users\\detro\\Desktop\\Edited_Pj_city_water\\ALL\\S1_wc .xlsx\", header=None)"
   ]
  },
  {
   "cell_type": "code",
   "execution_count": 24,
   "id": "da2aa613",
   "metadata": {},
   "outputs": [],
   "source": [
    "S2_alameda = pd.read_excel(r\"C:\\Users\\detro\\Desktop\\Edited_Pj_city_water\\ALL\\S2_alameda.xlsx\", header=None)"
   ]
  },
  {
   "cell_type": "code",
   "execution_count": 25,
   "id": "9184222a",
   "metadata": {},
   "outputs": [],
   "source": [
    "S2_alamo = pd.read_excel(r\"C:\\Users\\detro\\Desktop\\Edited_Pj_city_water\\ALL\\S2_alamo.xlsx\", header=None)"
   ]
  },
  {
   "cell_type": "code",
   "execution_count": 26,
   "id": "6fc95462",
   "metadata": {},
   "outputs": [],
   "source": [
    "S2_berkeley = pd.read_excel(r\"C:\\Users\\detro\\Desktop\\Edited_Pj_city_water\\ALL\\S2_berkeley .xlsx\", header=None)"
   ]
  },
  {
   "cell_type": "code",
   "execution_count": 27,
   "id": "02d5a946",
   "metadata": {},
   "outputs": [],
   "source": [
    "S2_crockett = pd.read_excel(r\"C:\\Users\\detro\\Desktop\\Edited_Pj_city_water\\ALL\\S2_crockett.xlsx\", header=None)"
   ]
  },
  {
   "cell_type": "code",
   "execution_count": 28,
   "id": "efb48fa9",
   "metadata": {},
   "outputs": [],
   "source": [
    "S2_danville = pd.read_excel(r\"C:\\Users\\detro\\Desktop\\Edited_Pj_city_water\\ALL\\S2_danville.xlsx\", header=None)"
   ]
  },
  {
   "cell_type": "code",
   "execution_count": 29,
   "id": "e09f596a",
   "metadata": {},
   "outputs": [],
   "source": [
    "S2_hercules = pd.read_excel(r\"C:\\Users\\detro\\Desktop\\Edited_Pj_city_water\\ALL\\S2_hercules.xlsx\", header=None)"
   ]
  },
  {
   "cell_type": "code",
   "execution_count": 30,
   "id": "6303f9de",
   "metadata": {},
   "outputs": [],
   "source": [
    "S2_leandro = pd.read_excel(r\"C:\\Users\\detro\\Desktop\\Edited_Pj_city_water\\ALL\\S2_leandro .xlsx\", header=None)"
   ]
  },
  {
   "cell_type": "code",
   "execution_count": 31,
   "id": "3745ab1e",
   "metadata": {},
   "outputs": [],
   "source": [
    "S2_lorenzo = pd.read_excel(r\"C:\\Users\\detro\\Desktop\\Edited_Pj_city_water\\ALL\\S2_lorenzo .xlsx\", header=None)"
   ]
  },
  {
   "cell_type": "code",
   "execution_count": 32,
   "id": "9f54a0eb",
   "metadata": {},
   "outputs": [],
   "source": [
    "S2_moraga = pd.read_excel(r\"C:\\Users\\detro\\Desktop\\Edited_Pj_city_water\\ALL\\S2_moraga.xlsx\", header=None)"
   ]
  },
  {
   "cell_type": "code",
   "execution_count": 33,
   "id": "bbec97ec",
   "metadata": {},
   "outputs": [],
   "source": [
    "S2_oakland = pd.read_excel(r\"C:\\Users\\detro\\Desktop\\Edited_Pj_city_water\\ALL\\S2_oakland .xlsx\", header=None)"
   ]
  },
  {
   "cell_type": "code",
   "execution_count": 34,
   "id": "78288d0e",
   "metadata": {},
   "outputs": [],
   "source": [
    "S2_orinda = pd.read_excel(r\"C:\\Users\\detro\\Desktop\\Edited_Pj_city_water\\ALL\\S2_orinda .xlsx\", header=None)"
   ]
  },
  {
   "cell_type": "code",
   "execution_count": 35,
   "id": "4790dfb1",
   "metadata": {},
   "outputs": [],
   "source": [
    "S2_pablo = pd.read_excel(r\"C:\\Users\\detro\\Desktop\\Edited_Pj_city_water\\ALL\\S2_pablo.xlsx\", header=None)"
   ]
  },
  {
   "cell_type": "code",
   "execution_count": 36,
   "id": "73f821c8",
   "metadata": {},
   "outputs": [],
   "source": [
    "s2_richmond = pd.read_excel(r\"C:\\Users\\detro\\Desktop\\Edited_Pj_city_water\\ALL\\s2_richmond.xlsx\", header=None)"
   ]
  },
  {
   "cell_type": "code",
   "execution_count": 37,
   "id": "d3f899b2",
   "metadata": {},
   "outputs": [],
   "source": [
    "S2_selby = pd.read_excel(r\"C:\\Users\\detro\\Desktop\\Edited_Pj_city_water\\ALL\\S2_selby .xlsx\", header=None)"
   ]
  },
  {
   "cell_type": "code",
   "execution_count": 38,
   "id": "700e834d",
   "metadata": {},
   "outputs": [],
   "source": [
    "S2_sobrante = pd.read_excel(r\"C:\\Users\\detro\\Desktop\\Edited_Pj_city_water\\ALL\\S2_sobrante.xlsx\", header=None)"
   ]
  },
  {
   "cell_type": "code",
   "execution_count": 39,
   "id": "f1eca3fc",
   "metadata": {},
   "outputs": [],
   "source": [
    "S2_wc = pd.read_excel(r\"C:\\Users\\detro\\Desktop\\Edited_Pj_city_water\\ALL\\S2_wc.xlsx\", header=None)"
   ]
  },
  {
   "cell_type": "code",
   "execution_count": 41,
   "id": "2297fa66",
   "metadata": {},
   "outputs": [
    {
     "data": {
      "text/html": [
       "<div>\n",
       "<style scoped>\n",
       "    .dataframe tbody tr th:only-of-type {\n",
       "        vertical-align: middle;\n",
       "    }\n",
       "\n",
       "    .dataframe tbody tr th {\n",
       "        vertical-align: top;\n",
       "    }\n",
       "\n",
       "    .dataframe thead th {\n",
       "        text-align: right;\n",
       "    }\n",
       "</style>\n",
       "<table border=\"1\" class=\"dataframe\">\n",
       "  <thead>\n",
       "    <tr style=\"text-align: right;\">\n",
       "      <th></th>\n",
       "      <th>0</th>\n",
       "      <th>1</th>\n",
       "      <th>2</th>\n",
       "      <th>3</th>\n",
       "      <th>4</th>\n",
       "      <th>5</th>\n",
       "      <th>6</th>\n",
       "      <th>7</th>\n",
       "    </tr>\n",
       "  </thead>\n",
       "  <tbody>\n",
       "    <tr>\n",
       "      <th>0</th>\n",
       "      <td>Pseudo ID</td>\n",
       "      <td>BCC</td>\n",
       "      <td>BEGIN_DATE</td>\n",
       "      <td>END_DATE</td>\n",
       "      <td>CCF</td>\n",
       "      <td>ELEVATION_BAND</td>\n",
       "      <td>CITY_NAME</td>\n",
       "      <td>ZIP_CODE</td>\n",
       "    </tr>\n",
       "    <tr>\n",
       "      <th>1</th>\n",
       "      <td>94501-1</td>\n",
       "      <td>8800</td>\n",
       "      <td>12/8/2015</td>\n",
       "      <td>2/10/2016</td>\n",
       "      <td>4.000</td>\n",
       "      <td>1</td>\n",
       "      <td>Alameda</td>\n",
       "      <td>945014615</td>\n",
       "    </tr>\n",
       "    <tr>\n",
       "      <th>2</th>\n",
       "      <td>94501-1</td>\n",
       "      <td>8800</td>\n",
       "      <td>2/10/2016</td>\n",
       "      <td>4/9/2016</td>\n",
       "      <td>4.000</td>\n",
       "      <td>1</td>\n",
       "      <td>Alameda</td>\n",
       "      <td>945014615</td>\n",
       "    </tr>\n",
       "    <tr>\n",
       "      <th>3</th>\n",
       "      <td>94501-1</td>\n",
       "      <td>8800</td>\n",
       "      <td>10/7/2015</td>\n",
       "      <td>12/8/2015</td>\n",
       "      <td>5.000</td>\n",
       "      <td>1</td>\n",
       "      <td>Alameda</td>\n",
       "      <td>945014615</td>\n",
       "    </tr>\n",
       "    <tr>\n",
       "      <th>4</th>\n",
       "      <td>94501-1</td>\n",
       "      <td>8800</td>\n",
       "      <td>8/7/2015</td>\n",
       "      <td>10/7/2015</td>\n",
       "      <td>4.000</td>\n",
       "      <td>1</td>\n",
       "      <td>Alameda</td>\n",
       "      <td>945014615</td>\n",
       "    </tr>\n",
       "  </tbody>\n",
       "</table>\n",
       "</div>"
      ],
      "text/plain": [
       "           0     1           2          3      4               5          6  \\\n",
       "0  Pseudo ID   BCC  BEGIN_DATE   END_DATE    CCF  ELEVATION_BAND  CITY_NAME   \n",
       "1    94501-1  8800   12/8/2015  2/10/2016  4.000               1    Alameda   \n",
       "2    94501-1  8800   2/10/2016   4/9/2016  4.000               1    Alameda   \n",
       "3    94501-1  8800   10/7/2015  12/8/2015  5.000               1    Alameda   \n",
       "4    94501-1  8800    8/7/2015  10/7/2015  4.000               1    Alameda   \n",
       "\n",
       "           7  \n",
       "0   ZIP_CODE  \n",
       "1  945014615  \n",
       "2  945014615  \n",
       "3  945014615  \n",
       "4  945014615  "
      ]
     },
     "execution_count": 41,
     "metadata": {},
     "output_type": "execute_result"
    }
   ],
   "source": [
    "S2_alameda.head()"
   ]
  },
  {
   "cell_type": "code",
   "execution_count": null,
   "id": "db139cd1",
   "metadata": {},
   "outputs": [],
   "source": [
    "#Drop first row of S2 dataframes to remove residual header information. "
   ]
  },
  {
   "cell_type": "code",
   "execution_count": 42,
   "id": "62b2b1e8",
   "metadata": {},
   "outputs": [],
   "source": [
    "S2_alameda = S2_alameda.iloc[1:]"
   ]
  },
  {
   "cell_type": "code",
   "execution_count": 43,
   "id": "91db115f",
   "metadata": {},
   "outputs": [
    {
     "data": {
      "text/html": [
       "<div>\n",
       "<style scoped>\n",
       "    .dataframe tbody tr th:only-of-type {\n",
       "        vertical-align: middle;\n",
       "    }\n",
       "\n",
       "    .dataframe tbody tr th {\n",
       "        vertical-align: top;\n",
       "    }\n",
       "\n",
       "    .dataframe thead th {\n",
       "        text-align: right;\n",
       "    }\n",
       "</style>\n",
       "<table border=\"1\" class=\"dataframe\">\n",
       "  <thead>\n",
       "    <tr style=\"text-align: right;\">\n",
       "      <th></th>\n",
       "      <th>0</th>\n",
       "      <th>1</th>\n",
       "      <th>2</th>\n",
       "      <th>3</th>\n",
       "      <th>4</th>\n",
       "      <th>5</th>\n",
       "      <th>6</th>\n",
       "      <th>7</th>\n",
       "    </tr>\n",
       "  </thead>\n",
       "  <tbody>\n",
       "    <tr>\n",
       "      <th>1</th>\n",
       "      <td>94501-1</td>\n",
       "      <td>8800</td>\n",
       "      <td>12/8/2015</td>\n",
       "      <td>2/10/2016</td>\n",
       "      <td>4.000</td>\n",
       "      <td>1</td>\n",
       "      <td>Alameda</td>\n",
       "      <td>945014615</td>\n",
       "    </tr>\n",
       "    <tr>\n",
       "      <th>2</th>\n",
       "      <td>94501-1</td>\n",
       "      <td>8800</td>\n",
       "      <td>2/10/2016</td>\n",
       "      <td>4/9/2016</td>\n",
       "      <td>4.000</td>\n",
       "      <td>1</td>\n",
       "      <td>Alameda</td>\n",
       "      <td>945014615</td>\n",
       "    </tr>\n",
       "    <tr>\n",
       "      <th>3</th>\n",
       "      <td>94501-1</td>\n",
       "      <td>8800</td>\n",
       "      <td>10/7/2015</td>\n",
       "      <td>12/8/2015</td>\n",
       "      <td>5.000</td>\n",
       "      <td>1</td>\n",
       "      <td>Alameda</td>\n",
       "      <td>945014615</td>\n",
       "    </tr>\n",
       "    <tr>\n",
       "      <th>4</th>\n",
       "      <td>94501-1</td>\n",
       "      <td>8800</td>\n",
       "      <td>8/7/2015</td>\n",
       "      <td>10/7/2015</td>\n",
       "      <td>4.000</td>\n",
       "      <td>1</td>\n",
       "      <td>Alameda</td>\n",
       "      <td>945014615</td>\n",
       "    </tr>\n",
       "    <tr>\n",
       "      <th>5</th>\n",
       "      <td>94501-1</td>\n",
       "      <td>8800</td>\n",
       "      <td>6/9/2015</td>\n",
       "      <td>8/7/2015</td>\n",
       "      <td>3.000</td>\n",
       "      <td>1</td>\n",
       "      <td>Alameda</td>\n",
       "      <td>945014615</td>\n",
       "    </tr>\n",
       "  </tbody>\n",
       "</table>\n",
       "</div>"
      ],
      "text/plain": [
       "         0     1          2          3      4  5        6          7\n",
       "1  94501-1  8800  12/8/2015  2/10/2016  4.000  1  Alameda  945014615\n",
       "2  94501-1  8800  2/10/2016   4/9/2016  4.000  1  Alameda  945014615\n",
       "3  94501-1  8800  10/7/2015  12/8/2015  5.000  1  Alameda  945014615\n",
       "4  94501-1  8800   8/7/2015  10/7/2015  4.000  1  Alameda  945014615\n",
       "5  94501-1  8800   6/9/2015   8/7/2015  3.000  1  Alameda  945014615"
      ]
     },
     "execution_count": 43,
     "metadata": {},
     "output_type": "execute_result"
    }
   ],
   "source": [
    "#Checking that the method worked. \n",
    "S2_alameda.head()"
   ]
  },
  {
   "cell_type": "code",
   "execution_count": null,
   "id": "ecdb3eff",
   "metadata": {},
   "outputs": [],
   "source": [
    "#Drop for the rest of S2."
   ]
  },
  {
   "cell_type": "code",
   "execution_count": 44,
   "id": "4598e9c6",
   "metadata": {},
   "outputs": [],
   "source": [
    "S2_alamo = S2_alamo.iloc[1:]\n",
    "S2_berkeley = S2_berkeley.iloc[1:]\n",
    "S2_crockett = S2_crockett.iloc[1:]\n",
    "S2_danville = S2_danville.iloc[1:]\n",
    "S2_hercules = S2_hercules.iloc[1:]\n",
    "S2_leandro = S2_leandro.iloc[1:]\n",
    "S2_lorenzo = S2_lorenzo.iloc[1:]\n",
    "S2_moraga = S2_moraga.iloc[1:]\n",
    "S2_oakland = S2_oakland.iloc[1:]\n",
    "S2_orinda = S2_orinda.iloc[1:]\n",
    "S2_pablo = S2_pablo.iloc[1:]\n",
    "s2_richmond = s2_richmond.iloc[1:]\n",
    "S2_selby = S2_selby.iloc[1:]\n",
    "S2_sobrante = S2_sobrante.iloc[1:]\n",
    "S2_wc = S2_wc.iloc[1:]"
   ]
  },
  {
   "cell_type": "code",
   "execution_count": 45,
   "id": "fbc74fe2",
   "metadata": {},
   "outputs": [
    {
     "data": {
      "text/html": [
       "<div>\n",
       "<style scoped>\n",
       "    .dataframe tbody tr th:only-of-type {\n",
       "        vertical-align: middle;\n",
       "    }\n",
       "\n",
       "    .dataframe tbody tr th {\n",
       "        vertical-align: top;\n",
       "    }\n",
       "\n",
       "    .dataframe thead th {\n",
       "        text-align: right;\n",
       "    }\n",
       "</style>\n",
       "<table border=\"1\" class=\"dataframe\">\n",
       "  <thead>\n",
       "    <tr style=\"text-align: right;\">\n",
       "      <th></th>\n",
       "      <th>0</th>\n",
       "      <th>1</th>\n",
       "      <th>2</th>\n",
       "      <th>3</th>\n",
       "      <th>4</th>\n",
       "      <th>5</th>\n",
       "      <th>6</th>\n",
       "      <th>7</th>\n",
       "    </tr>\n",
       "  </thead>\n",
       "  <tbody>\n",
       "    <tr>\n",
       "      <th>1</th>\n",
       "      <td>94547-2</td>\n",
       "      <td>8800</td>\n",
       "      <td>6/2/2015</td>\n",
       "      <td>7/31/2015</td>\n",
       "      <td>20.000</td>\n",
       "      <td>1</td>\n",
       "      <td>Hercules</td>\n",
       "      <td>945471651</td>\n",
       "    </tr>\n",
       "    <tr>\n",
       "      <th>2</th>\n",
       "      <td>94547-2</td>\n",
       "      <td>8800</td>\n",
       "      <td>7/31/2015</td>\n",
       "      <td>9/30/2015</td>\n",
       "      <td>19.000</td>\n",
       "      <td>1</td>\n",
       "      <td>Hercules</td>\n",
       "      <td>945471651</td>\n",
       "    </tr>\n",
       "    <tr>\n",
       "      <th>3</th>\n",
       "      <td>94547-2</td>\n",
       "      <td>8800</td>\n",
       "      <td>9/30/2015</td>\n",
       "      <td>12/1/2015</td>\n",
       "      <td>10.000</td>\n",
       "      <td>1</td>\n",
       "      <td>Hercules</td>\n",
       "      <td>945471651</td>\n",
       "    </tr>\n",
       "    <tr>\n",
       "      <th>4</th>\n",
       "      <td>94547-2</td>\n",
       "      <td>8800</td>\n",
       "      <td>12/1/2015</td>\n",
       "      <td>2/2/2016</td>\n",
       "      <td>2.000</td>\n",
       "      <td>1</td>\n",
       "      <td>Hercules</td>\n",
       "      <td>945471651</td>\n",
       "    </tr>\n",
       "    <tr>\n",
       "      <th>5</th>\n",
       "      <td>94547-2</td>\n",
       "      <td>8800</td>\n",
       "      <td>2/2/2016</td>\n",
       "      <td>4/1/2016</td>\n",
       "      <td>7.000</td>\n",
       "      <td>1</td>\n",
       "      <td>Hercules</td>\n",
       "      <td>945471651</td>\n",
       "    </tr>\n",
       "  </tbody>\n",
       "</table>\n",
       "</div>"
      ],
      "text/plain": [
       "         0     1          2          3       4  5         6          7\n",
       "1  94547-2  8800   6/2/2015  7/31/2015  20.000  1  Hercules  945471651\n",
       "2  94547-2  8800  7/31/2015  9/30/2015  19.000  1  Hercules  945471651\n",
       "3  94547-2  8800  9/30/2015  12/1/2015  10.000  1  Hercules  945471651\n",
       "4  94547-2  8800  12/1/2015   2/2/2016   2.000  1  Hercules  945471651\n",
       "5  94547-2  8800   2/2/2016   4/1/2016   7.000  1  Hercules  945471651"
      ]
     },
     "execution_count": 45,
     "metadata": {},
     "output_type": "execute_result"
    }
   ],
   "source": [
    "#Checking to make sure method worked properly. \n",
    "S2_hercules.head()"
   ]
  },
  {
   "cell_type": "code",
   "execution_count": 46,
   "id": "5f71b589",
   "metadata": {},
   "outputs": [
    {
     "data": {
      "text/html": [
       "<div>\n",
       "<style scoped>\n",
       "    .dataframe tbody tr th:only-of-type {\n",
       "        vertical-align: middle;\n",
       "    }\n",
       "\n",
       "    .dataframe tbody tr th {\n",
       "        vertical-align: top;\n",
       "    }\n",
       "\n",
       "    .dataframe thead th {\n",
       "        text-align: right;\n",
       "    }\n",
       "</style>\n",
       "<table border=\"1\" class=\"dataframe\">\n",
       "  <thead>\n",
       "    <tr style=\"text-align: right;\">\n",
       "      <th></th>\n",
       "      <th>0</th>\n",
       "      <th>1</th>\n",
       "      <th>2</th>\n",
       "      <th>3</th>\n",
       "      <th>4</th>\n",
       "      <th>5</th>\n",
       "      <th>6</th>\n",
       "      <th>7</th>\n",
       "    </tr>\n",
       "  </thead>\n",
       "  <tbody>\n",
       "    <tr>\n",
       "      <th>1</th>\n",
       "      <td>94556-1</td>\n",
       "      <td>8800</td>\n",
       "      <td>2/5/2016</td>\n",
       "      <td>4/5/2016</td>\n",
       "      <td>13.000</td>\n",
       "      <td>2</td>\n",
       "      <td>Moraga</td>\n",
       "      <td>945561026</td>\n",
       "    </tr>\n",
       "    <tr>\n",
       "      <th>2</th>\n",
       "      <td>94556-1</td>\n",
       "      <td>8800</td>\n",
       "      <td>12/3/2015</td>\n",
       "      <td>2/5/2016</td>\n",
       "      <td>32.000</td>\n",
       "      <td>2</td>\n",
       "      <td>Moraga</td>\n",
       "      <td>945561026</td>\n",
       "    </tr>\n",
       "    <tr>\n",
       "      <th>3</th>\n",
       "      <td>94556-1</td>\n",
       "      <td>8800</td>\n",
       "      <td>10/2/2015</td>\n",
       "      <td>12/3/2015</td>\n",
       "      <td>8.000</td>\n",
       "      <td>2</td>\n",
       "      <td>Moraga</td>\n",
       "      <td>945561026</td>\n",
       "    </tr>\n",
       "    <tr>\n",
       "      <th>4</th>\n",
       "      <td>94556-1</td>\n",
       "      <td>8800</td>\n",
       "      <td>8/4/2015</td>\n",
       "      <td>10/2/2015</td>\n",
       "      <td>9.000</td>\n",
       "      <td>2</td>\n",
       "      <td>Moraga</td>\n",
       "      <td>945561026</td>\n",
       "    </tr>\n",
       "    <tr>\n",
       "      <th>5</th>\n",
       "      <td>94556-1</td>\n",
       "      <td>8800</td>\n",
       "      <td>6/4/2015</td>\n",
       "      <td>8/4/2015</td>\n",
       "      <td>9.000</td>\n",
       "      <td>2</td>\n",
       "      <td>Moraga</td>\n",
       "      <td>945561026</td>\n",
       "    </tr>\n",
       "  </tbody>\n",
       "</table>\n",
       "</div>"
      ],
      "text/plain": [
       "         0     1          2          3       4  5       6          7\n",
       "1  94556-1  8800   2/5/2016   4/5/2016  13.000  2  Moraga  945561026\n",
       "2  94556-1  8800  12/3/2015   2/5/2016  32.000  2  Moraga  945561026\n",
       "3  94556-1  8800  10/2/2015  12/3/2015   8.000  2  Moraga  945561026\n",
       "4  94556-1  8800   8/4/2015  10/2/2015   9.000  2  Moraga  945561026\n",
       "5  94556-1  8800   6/4/2015   8/4/2015   9.000  2  Moraga  945561026"
      ]
     },
     "execution_count": 46,
     "metadata": {},
     "output_type": "execute_result"
    }
   ],
   "source": [
    "S2_moraga.head()"
   ]
  },
  {
   "cell_type": "code",
   "execution_count": 47,
   "id": "5f248280",
   "metadata": {},
   "outputs": [],
   "source": [
    "# Concat the data frames into a single new frame named water_use\n",
    "\n",
    "frames = [S1_alameda, S1_alamo, S1_berkley, S1_crockett, S1_danville, S1_hercules, S1_leandro, S1_lorenzo, S1_moraga, \n",
    "         S1_oakland_a1, S1_oakland_a2, S1_oakland_a3, S1_oakland_b1, S1_oakland_b2, S1_oakland_b3 , S1_orinda, S1_pablo, \n",
    "         S1_richmond, S1_selby, S1_sobrante, S1_wc, S2_alameda, S2_alamo, S2_berkeley, S2_crockett, S2_danville, S2_hercules, \n",
    "         S2_leandro, S2_lorenzo, S2_moraga, S2_oakland, S2_orinda, S2_pablo, s2_richmond, S2_selby, S2_sobrante, S2_wc]\n",
    "water_use = pd.concat(frames)"
   ]
  },
  {
   "cell_type": "code",
   "execution_count": 48,
   "id": "3d20dd07",
   "metadata": {},
   "outputs": [
    {
     "data": {
      "text/plain": [
       "0         8\n",
       "1         8\n",
       "2         8\n",
       "3         8\n",
       "4         8\n",
       "         ..\n",
       "108299    8\n",
       "108300    8\n",
       "108301    8\n",
       "108302    8\n",
       "108303    8\n",
       "Length: 10544323, dtype: int64"
      ]
     },
     "execution_count": 48,
     "metadata": {},
     "output_type": "execute_result"
    }
   ],
   "source": [
    "# Count in order to see if we have an appropriate number of rows. We 10.5 million rows, seems correct. \n",
    "\n",
    "water_use.count(axis=1)"
   ]
  },
  {
   "cell_type": "code",
   "execution_count": 49,
   "id": "e7d335f5",
   "metadata": {},
   "outputs": [
    {
     "data": {
      "text/html": [
       "<div>\n",
       "<style scoped>\n",
       "    .dataframe tbody tr th:only-of-type {\n",
       "        vertical-align: middle;\n",
       "    }\n",
       "\n",
       "    .dataframe tbody tr th {\n",
       "        vertical-align: top;\n",
       "    }\n",
       "\n",
       "    .dataframe thead th {\n",
       "        text-align: right;\n",
       "    }\n",
       "</style>\n",
       "<table border=\"1\" class=\"dataframe\">\n",
       "  <thead>\n",
       "    <tr style=\"text-align: right;\">\n",
       "      <th></th>\n",
       "      <th>0</th>\n",
       "      <th>1</th>\n",
       "      <th>2</th>\n",
       "      <th>3</th>\n",
       "      <th>4</th>\n",
       "      <th>5</th>\n",
       "      <th>6</th>\n",
       "      <th>7</th>\n",
       "    </tr>\n",
       "  </thead>\n",
       "  <tbody>\n",
       "    <tr>\n",
       "      <th>0</th>\n",
       "      <td>94502-4797</td>\n",
       "      <td>8800</td>\n",
       "      <td>2012-04-05 00:00:00</td>\n",
       "      <td>2012-06-05 00:00:00</td>\n",
       "      <td>26</td>\n",
       "      <td>1</td>\n",
       "      <td>Alameda</td>\n",
       "      <td>945027714</td>\n",
       "    </tr>\n",
       "    <tr>\n",
       "      <th>1</th>\n",
       "      <td>94502-4797</td>\n",
       "      <td>8800</td>\n",
       "      <td>2012-06-05 00:00:00</td>\n",
       "      <td>2012-08-03 00:00:00</td>\n",
       "      <td>32</td>\n",
       "      <td>1</td>\n",
       "      <td>Alameda</td>\n",
       "      <td>945027714</td>\n",
       "    </tr>\n",
       "    <tr>\n",
       "      <th>2</th>\n",
       "      <td>94502-4797</td>\n",
       "      <td>8800</td>\n",
       "      <td>2012-08-03 00:00:00</td>\n",
       "      <td>2012-10-03 00:00:00</td>\n",
       "      <td>30</td>\n",
       "      <td>1</td>\n",
       "      <td>Alameda</td>\n",
       "      <td>945027714</td>\n",
       "    </tr>\n",
       "    <tr>\n",
       "      <th>3</th>\n",
       "      <td>94502-4797</td>\n",
       "      <td>8800</td>\n",
       "      <td>2012-10-03 00:00:00</td>\n",
       "      <td>2012-12-04 00:00:00</td>\n",
       "      <td>21</td>\n",
       "      <td>1</td>\n",
       "      <td>Alameda</td>\n",
       "      <td>945027714</td>\n",
       "    </tr>\n",
       "    <tr>\n",
       "      <th>4</th>\n",
       "      <td>94502-4797</td>\n",
       "      <td>8800</td>\n",
       "      <td>2012-12-04 00:00:00</td>\n",
       "      <td>2013-02-05 00:00:00</td>\n",
       "      <td>20</td>\n",
       "      <td>1</td>\n",
       "      <td>Alameda</td>\n",
       "      <td>945027714</td>\n",
       "    </tr>\n",
       "    <tr>\n",
       "      <th>5</th>\n",
       "      <td>94502-4797</td>\n",
       "      <td>8800</td>\n",
       "      <td>2013-02-05 00:00:00</td>\n",
       "      <td>2013-04-08 00:00:00</td>\n",
       "      <td>29</td>\n",
       "      <td>1</td>\n",
       "      <td>Alameda</td>\n",
       "      <td>945027714</td>\n",
       "    </tr>\n",
       "    <tr>\n",
       "      <th>6</th>\n",
       "      <td>94502-4797</td>\n",
       "      <td>8800</td>\n",
       "      <td>2013-04-08 00:00:00</td>\n",
       "      <td>2013-06-07 00:00:00</td>\n",
       "      <td>26</td>\n",
       "      <td>1</td>\n",
       "      <td>Alameda</td>\n",
       "      <td>945027714</td>\n",
       "    </tr>\n",
       "    <tr>\n",
       "      <th>7</th>\n",
       "      <td>94502-4797</td>\n",
       "      <td>8800</td>\n",
       "      <td>2013-06-07 00:00:00</td>\n",
       "      <td>2013-08-06 00:00:00</td>\n",
       "      <td>30</td>\n",
       "      <td>1</td>\n",
       "      <td>Alameda</td>\n",
       "      <td>945027714</td>\n",
       "    </tr>\n",
       "    <tr>\n",
       "      <th>8</th>\n",
       "      <td>94502-4797</td>\n",
       "      <td>8800</td>\n",
       "      <td>2013-08-06 00:00:00</td>\n",
       "      <td>2013-10-04 00:00:00</td>\n",
       "      <td>32</td>\n",
       "      <td>1</td>\n",
       "      <td>Alameda</td>\n",
       "      <td>945027714</td>\n",
       "    </tr>\n",
       "    <tr>\n",
       "      <th>9</th>\n",
       "      <td>94502-4797</td>\n",
       "      <td>8800</td>\n",
       "      <td>2013-10-04 00:00:00</td>\n",
       "      <td>2013-12-03 00:00:00</td>\n",
       "      <td>35</td>\n",
       "      <td>1</td>\n",
       "      <td>Alameda</td>\n",
       "      <td>945027714</td>\n",
       "    </tr>\n",
       "  </tbody>\n",
       "</table>\n",
       "</div>"
      ],
      "text/plain": [
       "            0     1                    2                    3   4  5        6  \\\n",
       "0  94502-4797  8800  2012-04-05 00:00:00  2012-06-05 00:00:00  26  1  Alameda   \n",
       "1  94502-4797  8800  2012-06-05 00:00:00  2012-08-03 00:00:00  32  1  Alameda   \n",
       "2  94502-4797  8800  2012-08-03 00:00:00  2012-10-03 00:00:00  30  1  Alameda   \n",
       "3  94502-4797  8800  2012-10-03 00:00:00  2012-12-04 00:00:00  21  1  Alameda   \n",
       "4  94502-4797  8800  2012-12-04 00:00:00  2013-02-05 00:00:00  20  1  Alameda   \n",
       "5  94502-4797  8800  2013-02-05 00:00:00  2013-04-08 00:00:00  29  1  Alameda   \n",
       "6  94502-4797  8800  2013-04-08 00:00:00  2013-06-07 00:00:00  26  1  Alameda   \n",
       "7  94502-4797  8800  2013-06-07 00:00:00  2013-08-06 00:00:00  30  1  Alameda   \n",
       "8  94502-4797  8800  2013-08-06 00:00:00  2013-10-04 00:00:00  32  1  Alameda   \n",
       "9  94502-4797  8800  2013-10-04 00:00:00  2013-12-03 00:00:00  35  1  Alameda   \n",
       "\n",
       "           7  \n",
       "0  945027714  \n",
       "1  945027714  \n",
       "2  945027714  \n",
       "3  945027714  \n",
       "4  945027714  \n",
       "5  945027714  \n",
       "6  945027714  \n",
       "7  945027714  \n",
       "8  945027714  \n",
       "9  945027714  "
      ]
     },
     "execution_count": 49,
     "metadata": {},
     "output_type": "execute_result"
    }
   ],
   "source": [
    "water_use.head(10)"
   ]
  },
  {
   "cell_type": "code",
   "execution_count": 50,
   "id": "b12ea038",
   "metadata": {},
   "outputs": [],
   "source": [
    "dups = water_use[water_use.duplicated()]"
   ]
  },
  {
   "cell_type": "code",
   "execution_count": 51,
   "id": "1265b431",
   "metadata": {},
   "outputs": [
    {
     "data": {
      "text/plain": [
       "0    628\n",
       "1    628\n",
       "2    628\n",
       "3    628\n",
       "4    628\n",
       "5    628\n",
       "6    628\n",
       "7    628\n",
       "dtype: int64"
      ]
     },
     "execution_count": 51,
     "metadata": {},
     "output_type": "execute_result"
    }
   ],
   "source": [
    "# we have 628 duplicated columns we need to remove\n",
    "dups.count()"
   ]
  },
  {
   "cell_type": "code",
   "execution_count": 52,
   "id": "8952a752",
   "metadata": {},
   "outputs": [
    {
     "data": {
      "text/html": [
       "<div>\n",
       "<style scoped>\n",
       "    .dataframe tbody tr th:only-of-type {\n",
       "        vertical-align: middle;\n",
       "    }\n",
       "\n",
       "    .dataframe tbody tr th {\n",
       "        vertical-align: top;\n",
       "    }\n",
       "\n",
       "    .dataframe thead th {\n",
       "        text-align: right;\n",
       "    }\n",
       "</style>\n",
       "<table border=\"1\" class=\"dataframe\">\n",
       "  <thead>\n",
       "    <tr style=\"text-align: right;\">\n",
       "      <th></th>\n",
       "      <th>0</th>\n",
       "      <th>1</th>\n",
       "      <th>2</th>\n",
       "      <th>3</th>\n",
       "      <th>4</th>\n",
       "      <th>5</th>\n",
       "      <th>6</th>\n",
       "      <th>7</th>\n",
       "    </tr>\n",
       "  </thead>\n",
       "  <tbody>\n",
       "    <tr>\n",
       "      <th>16620</th>\n",
       "      <td>94502-3171</td>\n",
       "      <td>6513</td>\n",
       "      <td>2012-06-11 00:00:00</td>\n",
       "      <td>2012-08-10 00:00:00</td>\n",
       "      <td>243</td>\n",
       "      <td>1</td>\n",
       "      <td>Alameda</td>\n",
       "      <td>945027009</td>\n",
       "    </tr>\n",
       "    <tr>\n",
       "      <th>28390</th>\n",
       "      <td>94502-3165</td>\n",
       "      <td>6513</td>\n",
       "      <td>2014-10-08 00:00:00</td>\n",
       "      <td>2014-10-17 00:00:00</td>\n",
       "      <td>0</td>\n",
       "      <td>1</td>\n",
       "      <td>Alameda</td>\n",
       "      <td>945026856</td>\n",
       "    </tr>\n",
       "    <tr>\n",
       "      <th>218997</th>\n",
       "      <td>94501-29881</td>\n",
       "      <td>8800</td>\n",
       "      <td>2012-10-02 00:00:00</td>\n",
       "      <td>2012-10-16 00:00:00</td>\n",
       "      <td>3</td>\n",
       "      <td>1</td>\n",
       "      <td>Alameda</td>\n",
       "      <td>945015966</td>\n",
       "    </tr>\n",
       "    <tr>\n",
       "      <th>91262</th>\n",
       "      <td>94706-899</td>\n",
       "      <td>6513</td>\n",
       "      <td>2013-12-20 00:00:00</td>\n",
       "      <td>2014-01-22 00:00:00</td>\n",
       "      <td>0</td>\n",
       "      <td>1</td>\n",
       "      <td>Albany</td>\n",
       "      <td>947062226</td>\n",
       "    </tr>\n",
       "    <tr>\n",
       "      <th>91264</th>\n",
       "      <td>94706-899</td>\n",
       "      <td>6513</td>\n",
       "      <td>2014-01-22 00:00:00</td>\n",
       "      <td>2014-02-21 00:00:00</td>\n",
       "      <td>0</td>\n",
       "      <td>1</td>\n",
       "      <td>Albany</td>\n",
       "      <td>947062226</td>\n",
       "    </tr>\n",
       "  </tbody>\n",
       "</table>\n",
       "</div>"
      ],
      "text/plain": [
       "                  0     1                    2                    3    4  5  \\\n",
       "16620    94502-3171  6513  2012-06-11 00:00:00  2012-08-10 00:00:00  243  1   \n",
       "28390    94502-3165  6513  2014-10-08 00:00:00  2014-10-17 00:00:00    0  1   \n",
       "218997  94501-29881  8800  2012-10-02 00:00:00  2012-10-16 00:00:00    3  1   \n",
       "91262     94706-899  6513  2013-12-20 00:00:00  2014-01-22 00:00:00    0  1   \n",
       "91264     94706-899  6513  2014-01-22 00:00:00  2014-02-21 00:00:00    0  1   \n",
       "\n",
       "              6          7  \n",
       "16620   Alameda  945027009  \n",
       "28390   Alameda  945026856  \n",
       "218997  Alameda  945015966  \n",
       "91262    Albany  947062226  \n",
       "91264    Albany  947062226  "
      ]
     },
     "execution_count": 52,
     "metadata": {},
     "output_type": "execute_result"
    }
   ],
   "source": [
    "dups.head()"
   ]
  },
  {
   "cell_type": "code",
   "execution_count": 53,
   "id": "39ed9b22",
   "metadata": {},
   "outputs": [],
   "source": [
    "water_use = water_use.drop_duplicates()"
   ]
  },
  {
   "cell_type": "code",
   "execution_count": 54,
   "id": "0ea923cd",
   "metadata": {},
   "outputs": [
    {
     "data": {
      "text/plain": [
       "0         8\n",
       "1         8\n",
       "2         8\n",
       "3         8\n",
       "4         8\n",
       "         ..\n",
       "108299    8\n",
       "108300    8\n",
       "108301    8\n",
       "108302    8\n",
       "108303    8\n",
       "Length: 10543695, dtype: int64"
      ]
     },
     "execution_count": 54,
     "metadata": {},
     "output_type": "execute_result"
    }
   ],
   "source": [
    "water_use.count(axis=1)"
   ]
  },
  {
   "cell_type": "code",
   "execution_count": 55,
   "id": "a2337ef5",
   "metadata": {},
   "outputs": [
    {
     "data": {
      "text/plain": [
       "628"
      ]
     },
     "execution_count": 55,
     "metadata": {},
     "output_type": "execute_result"
    }
   ],
   "source": [
    "# check nummber of duplicates droped, should equal 628\n",
    "10544323 -10543695 "
   ]
  },
  {
   "cell_type": "code",
   "execution_count": 56,
   "id": "1a91ec57",
   "metadata": {},
   "outputs": [
    {
     "data": {
      "text/plain": [
       "True"
      ]
     },
     "execution_count": 56,
     "metadata": {},
     "output_type": "execute_result"
    }
   ],
   "source": [
    "water_use.isnull().values.any()"
   ]
  },
  {
   "cell_type": "code",
   "execution_count": 57,
   "id": "e6cfa91e",
   "metadata": {},
   "outputs": [
    {
     "data": {
      "text/plain": [
       "101"
      ]
     },
     "execution_count": 57,
     "metadata": {},
     "output_type": "execute_result"
    }
   ],
   "source": [
    "water_use.isnull().sum().sum()"
   ]
  },
  {
   "cell_type": "code",
   "execution_count": 58,
   "id": "9a6d74a0",
   "metadata": {},
   "outputs": [],
   "source": [
    "# Since we have such a large data set and so few null values, we will just drop these rows. If circumstances were different,\n",
    "# we might consider inserting the averages from their respective cities/time series. \n",
    "\n",
    "water_use.dropna(how='any', inplace=True)"
   ]
  },
  {
   "cell_type": "code",
   "execution_count": 59,
   "id": "354794e7",
   "metadata": {},
   "outputs": [
    {
     "data": {
      "text/plain": [
       "0"
      ]
     },
     "execution_count": 59,
     "metadata": {},
     "output_type": "execute_result"
    }
   ],
   "source": [
    "water_use.isnull().sum().sum()"
   ]
  },
  {
   "cell_type": "code",
   "execution_count": null,
   "id": "43ac66e1",
   "metadata": {},
   "outputs": [],
   "source": [
    "water_use.count(axis=1)"
   ]
  },
  {
   "cell_type": "code",
   "execution_count": 60,
   "id": "381b3411",
   "metadata": {},
   "outputs": [
    {
     "data": {
      "text/plain": [
       "101"
      ]
     },
     "execution_count": 60,
     "metadata": {},
     "output_type": "execute_result"
    }
   ],
   "source": [
    "# verify number of drops matches number of nulls\n",
    "10543695 -10543594"
   ]
  },
  {
   "cell_type": "code",
   "execution_count": 61,
   "id": "33bf13ac",
   "metadata": {},
   "outputs": [
    {
     "data": {
      "text/html": [
       "<div>\n",
       "<style scoped>\n",
       "    .dataframe tbody tr th:only-of-type {\n",
       "        vertical-align: middle;\n",
       "    }\n",
       "\n",
       "    .dataframe tbody tr th {\n",
       "        vertical-align: top;\n",
       "    }\n",
       "\n",
       "    .dataframe thead th {\n",
       "        text-align: right;\n",
       "    }\n",
       "</style>\n",
       "<table border=\"1\" class=\"dataframe\">\n",
       "  <thead>\n",
       "    <tr style=\"text-align: right;\">\n",
       "      <th></th>\n",
       "      <th>0</th>\n",
       "      <th>1</th>\n",
       "      <th>2</th>\n",
       "      <th>3</th>\n",
       "      <th>4</th>\n",
       "      <th>5</th>\n",
       "      <th>6</th>\n",
       "      <th>7</th>\n",
       "    </tr>\n",
       "  </thead>\n",
       "  <tbody>\n",
       "    <tr>\n",
       "      <th>0</th>\n",
       "      <td>94502-4797</td>\n",
       "      <td>8800</td>\n",
       "      <td>2012-04-05 00:00:00</td>\n",
       "      <td>2012-06-05 00:00:00</td>\n",
       "      <td>26</td>\n",
       "      <td>1</td>\n",
       "      <td>Alameda</td>\n",
       "      <td>945027714</td>\n",
       "    </tr>\n",
       "    <tr>\n",
       "      <th>1</th>\n",
       "      <td>94502-4797</td>\n",
       "      <td>8800</td>\n",
       "      <td>2012-06-05 00:00:00</td>\n",
       "      <td>2012-08-03 00:00:00</td>\n",
       "      <td>32</td>\n",
       "      <td>1</td>\n",
       "      <td>Alameda</td>\n",
       "      <td>945027714</td>\n",
       "    </tr>\n",
       "    <tr>\n",
       "      <th>2</th>\n",
       "      <td>94502-4797</td>\n",
       "      <td>8800</td>\n",
       "      <td>2012-08-03 00:00:00</td>\n",
       "      <td>2012-10-03 00:00:00</td>\n",
       "      <td>30</td>\n",
       "      <td>1</td>\n",
       "      <td>Alameda</td>\n",
       "      <td>945027714</td>\n",
       "    </tr>\n",
       "    <tr>\n",
       "      <th>3</th>\n",
       "      <td>94502-4797</td>\n",
       "      <td>8800</td>\n",
       "      <td>2012-10-03 00:00:00</td>\n",
       "      <td>2012-12-04 00:00:00</td>\n",
       "      <td>21</td>\n",
       "      <td>1</td>\n",
       "      <td>Alameda</td>\n",
       "      <td>945027714</td>\n",
       "    </tr>\n",
       "    <tr>\n",
       "      <th>4</th>\n",
       "      <td>94502-4797</td>\n",
       "      <td>8800</td>\n",
       "      <td>2012-12-04 00:00:00</td>\n",
       "      <td>2013-02-05 00:00:00</td>\n",
       "      <td>20</td>\n",
       "      <td>1</td>\n",
       "      <td>Alameda</td>\n",
       "      <td>945027714</td>\n",
       "    </tr>\n",
       "  </tbody>\n",
       "</table>\n",
       "</div>"
      ],
      "text/plain": [
       "            0     1                    2                    3   4  5        6  \\\n",
       "0  94502-4797  8800  2012-04-05 00:00:00  2012-06-05 00:00:00  26  1  Alameda   \n",
       "1  94502-4797  8800  2012-06-05 00:00:00  2012-08-03 00:00:00  32  1  Alameda   \n",
       "2  94502-4797  8800  2012-08-03 00:00:00  2012-10-03 00:00:00  30  1  Alameda   \n",
       "3  94502-4797  8800  2012-10-03 00:00:00  2012-12-04 00:00:00  21  1  Alameda   \n",
       "4  94502-4797  8800  2012-12-04 00:00:00  2013-02-05 00:00:00  20  1  Alameda   \n",
       "\n",
       "           7  \n",
       "0  945027714  \n",
       "1  945027714  \n",
       "2  945027714  \n",
       "3  945027714  \n",
       "4  945027714  "
      ]
     },
     "execution_count": 61,
     "metadata": {},
     "output_type": "execute_result"
    }
   ],
   "source": [
    "water_use.head()"
   ]
  },
  {
   "cell_type": "code",
   "execution_count": 62,
   "id": "133de40a",
   "metadata": {},
   "outputs": [],
   "source": [
    "water_use.columns = ['Pseudo_Id', 'Customer_Type', 'Start_Date', 'End_Date', 'Ccf_Used', 'Elevation_Band', 'City', 'Zip_Code' ]\n"
   ]
  },
  {
   "cell_type": "code",
   "execution_count": 63,
   "id": "8445e29c",
   "metadata": {},
   "outputs": [
    {
     "data": {
      "text/html": [
       "<div>\n",
       "<style scoped>\n",
       "    .dataframe tbody tr th:only-of-type {\n",
       "        vertical-align: middle;\n",
       "    }\n",
       "\n",
       "    .dataframe tbody tr th {\n",
       "        vertical-align: top;\n",
       "    }\n",
       "\n",
       "    .dataframe thead th {\n",
       "        text-align: right;\n",
       "    }\n",
       "</style>\n",
       "<table border=\"1\" class=\"dataframe\">\n",
       "  <thead>\n",
       "    <tr style=\"text-align: right;\">\n",
       "      <th></th>\n",
       "      <th>Pseudo_Id</th>\n",
       "      <th>Customer_Type</th>\n",
       "      <th>Start_Date</th>\n",
       "      <th>End_Date</th>\n",
       "      <th>Ccf_Used</th>\n",
       "      <th>Elevation_Band</th>\n",
       "      <th>City</th>\n",
       "      <th>Zip_Code</th>\n",
       "    </tr>\n",
       "  </thead>\n",
       "  <tbody>\n",
       "    <tr>\n",
       "      <th>0</th>\n",
       "      <td>94502-4797</td>\n",
       "      <td>8800</td>\n",
       "      <td>2012-04-05 00:00:00</td>\n",
       "      <td>2012-06-05 00:00:00</td>\n",
       "      <td>26</td>\n",
       "      <td>1</td>\n",
       "      <td>Alameda</td>\n",
       "      <td>945027714</td>\n",
       "    </tr>\n",
       "    <tr>\n",
       "      <th>1</th>\n",
       "      <td>94502-4797</td>\n",
       "      <td>8800</td>\n",
       "      <td>2012-06-05 00:00:00</td>\n",
       "      <td>2012-08-03 00:00:00</td>\n",
       "      <td>32</td>\n",
       "      <td>1</td>\n",
       "      <td>Alameda</td>\n",
       "      <td>945027714</td>\n",
       "    </tr>\n",
       "    <tr>\n",
       "      <th>2</th>\n",
       "      <td>94502-4797</td>\n",
       "      <td>8800</td>\n",
       "      <td>2012-08-03 00:00:00</td>\n",
       "      <td>2012-10-03 00:00:00</td>\n",
       "      <td>30</td>\n",
       "      <td>1</td>\n",
       "      <td>Alameda</td>\n",
       "      <td>945027714</td>\n",
       "    </tr>\n",
       "    <tr>\n",
       "      <th>3</th>\n",
       "      <td>94502-4797</td>\n",
       "      <td>8800</td>\n",
       "      <td>2012-10-03 00:00:00</td>\n",
       "      <td>2012-12-04 00:00:00</td>\n",
       "      <td>21</td>\n",
       "      <td>1</td>\n",
       "      <td>Alameda</td>\n",
       "      <td>945027714</td>\n",
       "    </tr>\n",
       "    <tr>\n",
       "      <th>4</th>\n",
       "      <td>94502-4797</td>\n",
       "      <td>8800</td>\n",
       "      <td>2012-12-04 00:00:00</td>\n",
       "      <td>2013-02-05 00:00:00</td>\n",
       "      <td>20</td>\n",
       "      <td>1</td>\n",
       "      <td>Alameda</td>\n",
       "      <td>945027714</td>\n",
       "    </tr>\n",
       "  </tbody>\n",
       "</table>\n",
       "</div>"
      ],
      "text/plain": [
       "    Pseudo_Id Customer_Type           Start_Date             End_Date  \\\n",
       "0  94502-4797          8800  2012-04-05 00:00:00  2012-06-05 00:00:00   \n",
       "1  94502-4797          8800  2012-06-05 00:00:00  2012-08-03 00:00:00   \n",
       "2  94502-4797          8800  2012-08-03 00:00:00  2012-10-03 00:00:00   \n",
       "3  94502-4797          8800  2012-10-03 00:00:00  2012-12-04 00:00:00   \n",
       "4  94502-4797          8800  2012-12-04 00:00:00  2013-02-05 00:00:00   \n",
       "\n",
       "  Ccf_Used Elevation_Band     City   Zip_Code  \n",
       "0       26              1  Alameda  945027714  \n",
       "1       32              1  Alameda  945027714  \n",
       "2       30              1  Alameda  945027714  \n",
       "3       21              1  Alameda  945027714  \n",
       "4       20              1  Alameda  945027714  "
      ]
     },
     "execution_count": 63,
     "metadata": {},
     "output_type": "execute_result"
    }
   ],
   "source": [
    "water_use.head()"
   ]
  },
  {
   "cell_type": "code",
   "execution_count": null,
   "id": "6390d0ec",
   "metadata": {},
   "outputs": [],
   "source": [
    "#Next lets change the customer_types from intigers to a desriptive object string\n",
    "\n",
    "water_use['Customer_Type'].unique()"
   ]
  },
  {
   "cell_type": "code",
   "execution_count": null,
   "id": "d1d70490",
   "metadata": {},
   "outputs": [],
   "source": [
    "water_use = water_use.astype({'Customer_Type':'string'})"
   ]
  },
  {
   "cell_type": "code",
   "execution_count": null,
   "id": "6de5f195",
   "metadata": {},
   "outputs": [],
   "source": [
    "import numpy as np"
   ]
  },
  {
   "cell_type": "code",
   "execution_count": 86,
   "id": "ba9f1efb",
   "metadata": {},
   "outputs": [],
   "source": [
    "water_use['Customer_Type'] = water_use['Customer_Type'].replace(['8800'], 'Res_Single_Family')\n",
    "water_use['Customer_Type'] = water_use['Customer_Type'].replace(['6514'], 'Res_Multiple_Dwelling')\n",
    "water_use['Customer_Type'] = water_use['Customer_Type'].replace(['6513'], 'Res_Apartments')\n",
    "water_use['Customer_Type'] = water_use['Customer_Type'].replace(['2010'], 'Com_Meat_Products')\n",
    "water_use['Customer_Type'] = water_use['Customer_Type'].replace(['2011'], 'Com_Slaughterhouses')\n",
    "water_use['Customer_Type'] = water_use['Customer_Type'].replace(['2020'], 'Com_Dairy Product Processing')\n",
    "water_use['Customer_Type'] = water_use['Customer_Type'].replace(['2030'], 'Com_Fruit_Vegetable_Processing')\n",
    "water_use['Customer_Type'] = water_use['Customer_Type'].replace(['2040'], 'Com_Grain_Mills')\n",
    "water_use['Customer_Type'] = water_use['Customer_Type'].replace(['2050'], 'Com_Bakeries')\n",
    "water_use['Customer_Type'] = water_use['Customer_Type'].replace(['2060'], 'Com_Sugar_Processing')\n",
    "water_use['Customer_Type'] = water_use['Customer_Type'].replace(['2077'], 'Com_Rendering_Tallow')\n",
    "water_use['Customer_Type'] = water_use['Customer_Type'].replace(['2080'], 'Com_Beverage_Manufacturing')\n",
    "water_use['Customer_Type'] = water_use['Customer_Type'].replace(['2090'], 'Com_Specialty_Foods_Manufacturing')\n",
    "water_use['Customer_Type'] = water_use['Customer_Type'].replace(['2600'], 'Com_Paper_Products')\n",
    "water_use['Customer_Type'] = water_use['Customer_Type'].replace(['2910'], 'Com_Inorganic_Chemicals_Manufacturing')\n",
    "water_use['Customer_Type'] = water_use['Customer_Type'].replace(['2820'], 'Com_Synthetic_Materials_Manufacturing')\n",
    "water_use['Customer_Type'] = water_use['Customer_Type'].replace(['2830'], 'Com_Drug_Manufacturing')\n",
    "water_use['Customer_Type'] = water_use['Customer_Type'].replace(['2840'], 'Com_Cleaning_Products')\n",
    "water_use['Customer_Type'] = water_use['Customer_Type'].replace(['2850'], 'Com_Paint_Manufacturing')\n",
    "water_use['Customer_Type'] = water_use['Customer_Type'].replace(['2893'], 'Com_Ink_Pigment_Manufacturing')\n",
    "water_use['Customer_Type'] = water_use['Customer_Type'].replace(['3110'], 'Com_Leather_Tanning_Finishing')\n",
    "water_use['Customer_Type'] = water_use['Customer_Type'].replace(['3200'], 'Com_Earthware_Manufacturing')\n",
    "water_use['Customer_Type'] = water_use['Customer_Type'].replace(['3300'], 'Com_Primary_Metals_Manufacturing')\n",
    "water_use['Customer_Type'] = water_use['Customer_Type'].replace(['3400'], 'Com_Metal_Products_Manufacturing')\n",
    "water_use['Customer_Type'] = water_use['Customer_Type'].replace(['3410'], 'Com_Drum_Barrel_Manufacturing')\n",
    "water_use['Customer_Type'] = water_use['Customer_Type'].replace(['3470'], 'Com_Metal_Coating')\n",
    "water_use['Customer_Type'] = water_use['Customer_Type'].replace(['4500'], 'Com_Air_Transportation')\n",
    "water_use['Customer_Type'] = water_use['Customer_Type'].replace(['4951'], 'Com_Groundwater_Remediation')\n",
    "water_use['Customer_Type'] = water_use['Customer_Type'].replace(['5812'], 'Com_Food_Service_Establishments')\n",
    "water_use['Customer_Type'] = water_use['Customer_Type'].replace(['7000'], 'Com_Hotels_Motels_Food_Service')\n",
    "water_use['Customer_Type'] = water_use['Customer_Type'].replace(['7210'], 'Com_Laundries')\n",
    "water_use['Customer_Type'] = water_use['Customer_Type'].replace(['7215'], 'Com_Laundromats')\n",
    "water_use['Customer_Type'] = water_use['Customer_Type'].replace(['7218'], 'Com_Industrial_Laundries')\n",
    "water_use['Customer_Type'] = water_use['Customer_Type'].replace(['7300'], 'Com_Laboratories')\n",
    "water_use['Customer_Type'] = water_use['Customer_Type'].replace(['7542'], 'Com_Auto_Wash')\n",
    "water_use['Customer_Type'] = water_use['Customer_Type'].replace(['8060'], 'Hospitals')\n",
    "water_use['Customer_Type'] = water_use['Customer_Type'].replace(['8060'], 'Schools')"
   ]
  },
  {
   "cell_type": "code",
   "execution_count": 87,
   "id": "66b12607",
   "metadata": {},
   "outputs": [
    {
     "data": {
      "text/plain": [
       "array([8800, 6513, 6514, 'Res_Single_Family', '5300',\n",
       "       'Res_Multiple_Dwelling', 'Res_Apartments', '7900', '6800', '7500',\n",
       "       'Com_Food_Service_Establishments', '7200', '7950', '8000', '4400',\n",
       "       '7260', '5811', '2051', '4200', '4950', '8200', '5400', '7990',\n",
       "       '8600', '5813', '5540', '4800', '7020', '0100', '1500',\n",
       "       'Com_Synthetic_Materials_Manufacturing', '7600', '4900', '0700',\n",
       "       '2900', 'Com_Laboratories', 'Com_Laundromats', '2500', '3590',\n",
       "       '7001', 'Com_Metal_Products_Manufacturing', '3730',\n",
       "       'Com_Auto_Wash', '2700', '2300', 'Com_Earthware_Manufacturing',\n",
       "       '7216', 'Hospitals', '3700', '5000',\n",
       "       'Com_Hotels_Motels_Food_Service', 'Com_Air_Transportation',\n",
       "       'Com_Bakeries', 'Com_Laundries', '3900',\n",
       "       'Com_Specialty_Foods_Manufacturing', '7940', '2891', '3600',\n",
       "       '4100', 'Com_Drug_Manufacturing', '6500', '3500',\n",
       "       'Com_Sugar_Processing', '3800', 'Com_Primary_Metals_Manufacturing',\n",
       "       '4700', 'Com_Metal_Coating', 'Com_Paint_Manufacturing',\n",
       "       'Com_Meat_Products', '7342', '2400', '4000',\n",
       "       'Com_Beverage_Manufacturing', '2810', 'Com_Grain_Mills',\n",
       "       'Com_Industrial_Laundries', 'Com_Slaughterhouses', '5093',\n",
       "       'Com_Cleaning_Products', 'Com_Fruit_Vegetable_Processing',\n",
       "       'Com_Paper_Products', '3000', '7539', '1200', '7699',\n",
       "       'Com_Dairy Product Processing', '2860'], dtype=object)"
      ]
     },
     "execution_count": 87,
     "metadata": {},
     "output_type": "execute_result"
    }
   ],
   "source": [
    "water_use['Customer_Type'].unique()"
   ]
  },
  {
   "cell_type": "code",
   "execution_count": 88,
   "id": "fa1a75e1",
   "metadata": {},
   "outputs": [],
   "source": [
    "#We have a bunch of numerical codes that we have no reference for, we will list these as 'Misc_Other'\n",
    "water_use['Customer_Type'] = water_use['Customer_Type'].replace(['5300', '7900', '6800', '7500', '7200', '7950', '8000', '4400', '7260', '5811', '2051', '4200', '4950', \n",
    "'8200', '5400', '7990', '8600', '5813', '5540', '4800', '7020', '0100', '1500', '7600', '4900', '0700', \n",
    "'2900', '2500', '3590', '7001', '3730', '2700', '2300', '7216', '3700', '5000', '3900', '7940', '2891', \n",
    "'BCC', '3600', '4100', '6500', '3500', '3800', '4700', '7342', '2400', '4000', '2810', '5093', '3000', \n",
    "'7539', '1200' ,'7699' ,'2860'], 'Misc_Other')"
   ]
  },
  {
   "cell_type": "code",
   "execution_count": 89,
   "id": "8d50ebdb",
   "metadata": {},
   "outputs": [
    {
     "data": {
      "text/plain": [
       "array([8800, 6513, 6514, 'Res_Single_Family', 'Misc_Other',\n",
       "       'Res_Multiple_Dwelling', 'Res_Apartments',\n",
       "       'Com_Food_Service_Establishments',\n",
       "       'Com_Synthetic_Materials_Manufacturing', 'Com_Laboratories',\n",
       "       'Com_Laundromats', 'Com_Metal_Products_Manufacturing',\n",
       "       'Com_Auto_Wash', 'Com_Earthware_Manufacturing', 'Hospitals',\n",
       "       'Com_Hotels_Motels_Food_Service', 'Com_Air_Transportation',\n",
       "       'Com_Bakeries', 'Com_Laundries',\n",
       "       'Com_Specialty_Foods_Manufacturing', 'Com_Drug_Manufacturing',\n",
       "       'Com_Sugar_Processing', 'Com_Primary_Metals_Manufacturing',\n",
       "       'Com_Metal_Coating', 'Com_Paint_Manufacturing',\n",
       "       'Com_Meat_Products', 'Com_Beverage_Manufacturing',\n",
       "       'Com_Grain_Mills', 'Com_Industrial_Laundries',\n",
       "       'Com_Slaughterhouses', 'Com_Cleaning_Products',\n",
       "       'Com_Fruit_Vegetable_Processing', 'Com_Paper_Products',\n",
       "       'Com_Dairy Product Processing'], dtype=object)"
      ]
     },
     "execution_count": 89,
     "metadata": {},
     "output_type": "execute_result"
    }
   ],
   "source": [
    "water_use['Customer_Type'].unique()"
   ]
  },
  {
   "cell_type": "code",
   "execution_count": 66,
   "id": "233c184f",
   "metadata": {},
   "outputs": [],
   "source": [
    "#Here we had a problem row that was not letting us convert to proper data types. It had header information. Required extensive troubleshooting. \n",
    "\n",
    "water_use = water_use.drop(water_use.index[8276359])"
   ]
  },
  {
   "cell_type": "code",
   "execution_count": 67,
   "id": "d9d23ac7",
   "metadata": {},
   "outputs": [],
   "source": [
    "water_use[[\"Ccf_Used\"]] = water_use[[\"Ccf_Used\"]].apply(pd.to_numeric)"
   ]
  },
  {
   "cell_type": "code",
   "execution_count": 68,
   "id": "140e3c73",
   "metadata": {},
   "outputs": [],
   "source": [
    "water_use['Ccf_Used'] = water_use['Ccf_Used'].astype(int)"
   ]
  },
  {
   "cell_type": "code",
   "execution_count": 69,
   "id": "68335588",
   "metadata": {},
   "outputs": [],
   "source": [
    "water_use = water_use.astype({'Zip_Code':'int'})"
   ]
  },
  {
   "cell_type": "code",
   "execution_count": 70,
   "id": "eb4c1df5",
   "metadata": {},
   "outputs": [],
   "source": [
    "water_use = water_use.astype({'Elevation_Band':'int'})"
   ]
  },
  {
   "cell_type": "code",
   "execution_count": 71,
   "id": "7fed8578",
   "metadata": {},
   "outputs": [],
   "source": [
    "water_use = water_use.astype({'Pseudo_Id':'string'})"
   ]
  },
  {
   "cell_type": "code",
   "execution_count": 72,
   "id": "61177fbf",
   "metadata": {},
   "outputs": [
    {
     "data": {
      "text/plain": [
       "Pseudo_Id         string\n",
       "Customer_Type     object\n",
       "Start_Date        object\n",
       "End_Date          object\n",
       "Ccf_Used           int32\n",
       "Elevation_Band     int32\n",
       "City              object\n",
       "Zip_Code           int32\n",
       "dtype: object"
      ]
     },
     "execution_count": 72,
     "metadata": {},
     "output_type": "execute_result"
    }
   ],
   "source": [
    "water_use.dtypes"
   ]
  },
  {
   "cell_type": "code",
   "execution_count": 73,
   "id": "a7a1d1c9",
   "metadata": {},
   "outputs": [
    {
     "data": {
      "text/html": [
       "<div>\n",
       "<style scoped>\n",
       "    .dataframe tbody tr th:only-of-type {\n",
       "        vertical-align: middle;\n",
       "    }\n",
       "\n",
       "    .dataframe tbody tr th {\n",
       "        vertical-align: top;\n",
       "    }\n",
       "\n",
       "    .dataframe thead th {\n",
       "        text-align: right;\n",
       "    }\n",
       "</style>\n",
       "<table border=\"1\" class=\"dataframe\">\n",
       "  <thead>\n",
       "    <tr style=\"text-align: right;\">\n",
       "      <th></th>\n",
       "      <th>Pseudo_Id</th>\n",
       "      <th>Customer_Type</th>\n",
       "      <th>Start_Date</th>\n",
       "      <th>End_Date</th>\n",
       "      <th>Ccf_Used</th>\n",
       "      <th>Elevation_Band</th>\n",
       "      <th>City</th>\n",
       "      <th>Zip_Code</th>\n",
       "    </tr>\n",
       "  </thead>\n",
       "  <tbody>\n",
       "    <tr>\n",
       "      <th>0</th>\n",
       "      <td>94502-4797</td>\n",
       "      <td>8800</td>\n",
       "      <td>2012-04-05 00:00:00</td>\n",
       "      <td>2012-06-05 00:00:00</td>\n",
       "      <td>26</td>\n",
       "      <td>1</td>\n",
       "      <td>Alameda</td>\n",
       "      <td>945027714</td>\n",
       "    </tr>\n",
       "    <tr>\n",
       "      <th>2</th>\n",
       "      <td>94502-4797</td>\n",
       "      <td>8800</td>\n",
       "      <td>2012-08-03 00:00:00</td>\n",
       "      <td>2012-10-03 00:00:00</td>\n",
       "      <td>30</td>\n",
       "      <td>1</td>\n",
       "      <td>Alameda</td>\n",
       "      <td>945027714</td>\n",
       "    </tr>\n",
       "    <tr>\n",
       "      <th>3</th>\n",
       "      <td>94502-4797</td>\n",
       "      <td>8800</td>\n",
       "      <td>2012-10-03 00:00:00</td>\n",
       "      <td>2012-12-04 00:00:00</td>\n",
       "      <td>21</td>\n",
       "      <td>1</td>\n",
       "      <td>Alameda</td>\n",
       "      <td>945027714</td>\n",
       "    </tr>\n",
       "    <tr>\n",
       "      <th>4</th>\n",
       "      <td>94502-4797</td>\n",
       "      <td>8800</td>\n",
       "      <td>2012-12-04 00:00:00</td>\n",
       "      <td>2013-02-05 00:00:00</td>\n",
       "      <td>20</td>\n",
       "      <td>1</td>\n",
       "      <td>Alameda</td>\n",
       "      <td>945027714</td>\n",
       "    </tr>\n",
       "    <tr>\n",
       "      <th>5</th>\n",
       "      <td>94502-4797</td>\n",
       "      <td>8800</td>\n",
       "      <td>2013-02-05 00:00:00</td>\n",
       "      <td>2013-04-08 00:00:00</td>\n",
       "      <td>29</td>\n",
       "      <td>1</td>\n",
       "      <td>Alameda</td>\n",
       "      <td>945027714</td>\n",
       "    </tr>\n",
       "  </tbody>\n",
       "</table>\n",
       "</div>"
      ],
      "text/plain": [
       "    Pseudo_Id Customer_Type           Start_Date             End_Date  \\\n",
       "0  94502-4797          8800  2012-04-05 00:00:00  2012-06-05 00:00:00   \n",
       "2  94502-4797          8800  2012-08-03 00:00:00  2012-10-03 00:00:00   \n",
       "3  94502-4797          8800  2012-10-03 00:00:00  2012-12-04 00:00:00   \n",
       "4  94502-4797          8800  2012-12-04 00:00:00  2013-02-05 00:00:00   \n",
       "5  94502-4797          8800  2013-02-05 00:00:00  2013-04-08 00:00:00   \n",
       "\n",
       "   Ccf_Used  Elevation_Band     City   Zip_Code  \n",
       "0        26               1  Alameda  945027714  \n",
       "2        30               1  Alameda  945027714  \n",
       "3        21               1  Alameda  945027714  \n",
       "4        20               1  Alameda  945027714  \n",
       "5        29               1  Alameda  945027714  "
      ]
     },
     "execution_count": 73,
     "metadata": {},
     "output_type": "execute_result"
    }
   ],
   "source": [
    "water_use.head()"
   ]
  },
  {
   "cell_type": "code",
   "execution_count": 74,
   "id": "4359d8fc",
   "metadata": {},
   "outputs": [],
   "source": [
    "water_use[['Start_Date','End_Date']] = water_use[['Start_Date','End_Date']].apply(pd.to_datetime) \n",
    "water_use['Billed_Days'] = (water_use['End_Date'] - water_use['Start_Date']).dt.days"
   ]
  },
  {
   "cell_type": "code",
   "execution_count": 75,
   "id": "3634d4a8",
   "metadata": {},
   "outputs": [],
   "source": [
    "water_use['Gallons_Used'] = (water_use['Ccf_Used'] * 748)"
   ]
  },
  {
   "cell_type": "code",
   "execution_count": 76,
   "id": "7f1f3b38",
   "metadata": {},
   "outputs": [],
   "source": [
    "water_use['Gallons_Used_Daily'] = (water_use['Gallons_Used']) / (water_use['Billed_Days'])"
   ]
  },
  {
   "cell_type": "code",
   "execution_count": 85,
   "id": "200c2339",
   "metadata": {},
   "outputs": [
    {
     "data": {
      "text/html": [
       "<div>\n",
       "<style scoped>\n",
       "    .dataframe tbody tr th:only-of-type {\n",
       "        vertical-align: middle;\n",
       "    }\n",
       "\n",
       "    .dataframe tbody tr th {\n",
       "        vertical-align: top;\n",
       "    }\n",
       "\n",
       "    .dataframe thead th {\n",
       "        text-align: right;\n",
       "    }\n",
       "</style>\n",
       "<table border=\"1\" class=\"dataframe\">\n",
       "  <thead>\n",
       "    <tr style=\"text-align: right;\">\n",
       "      <th></th>\n",
       "      <th>Pseudo_Id</th>\n",
       "      <th>Customer_Type</th>\n",
       "      <th>Start_Date</th>\n",
       "      <th>End_Date</th>\n",
       "      <th>Ccf_Used</th>\n",
       "      <th>Elevation_Band</th>\n",
       "      <th>City</th>\n",
       "      <th>Zip_Code</th>\n",
       "      <th>Billed_Days</th>\n",
       "      <th>Gallons_Used</th>\n",
       "      <th>Gallons_Used_Daily</th>\n",
       "    </tr>\n",
       "  </thead>\n",
       "  <tbody>\n",
       "    <tr>\n",
       "      <th>0</th>\n",
       "      <td>94502-4797</td>\n",
       "      <td>8800</td>\n",
       "      <td>2012-04-05</td>\n",
       "      <td>2012-06-05</td>\n",
       "      <td>26</td>\n",
       "      <td>1</td>\n",
       "      <td>Alameda</td>\n",
       "      <td>945027714</td>\n",
       "      <td>61</td>\n",
       "      <td>19448</td>\n",
       "      <td>318</td>\n",
       "    </tr>\n",
       "    <tr>\n",
       "      <th>2</th>\n",
       "      <td>94502-4797</td>\n",
       "      <td>8800</td>\n",
       "      <td>2012-08-03</td>\n",
       "      <td>2012-10-03</td>\n",
       "      <td>30</td>\n",
       "      <td>1</td>\n",
       "      <td>Alameda</td>\n",
       "      <td>945027714</td>\n",
       "      <td>61</td>\n",
       "      <td>22440</td>\n",
       "      <td>367</td>\n",
       "    </tr>\n",
       "    <tr>\n",
       "      <th>3</th>\n",
       "      <td>94502-4797</td>\n",
       "      <td>8800</td>\n",
       "      <td>2012-10-03</td>\n",
       "      <td>2012-12-04</td>\n",
       "      <td>21</td>\n",
       "      <td>1</td>\n",
       "      <td>Alameda</td>\n",
       "      <td>945027714</td>\n",
       "      <td>62</td>\n",
       "      <td>15708</td>\n",
       "      <td>253</td>\n",
       "    </tr>\n",
       "    <tr>\n",
       "      <th>4</th>\n",
       "      <td>94502-4797</td>\n",
       "      <td>8800</td>\n",
       "      <td>2012-12-04</td>\n",
       "      <td>2013-02-05</td>\n",
       "      <td>20</td>\n",
       "      <td>1</td>\n",
       "      <td>Alameda</td>\n",
       "      <td>945027714</td>\n",
       "      <td>63</td>\n",
       "      <td>14960</td>\n",
       "      <td>237</td>\n",
       "    </tr>\n",
       "    <tr>\n",
       "      <th>5</th>\n",
       "      <td>94502-4797</td>\n",
       "      <td>8800</td>\n",
       "      <td>2013-02-05</td>\n",
       "      <td>2013-04-08</td>\n",
       "      <td>29</td>\n",
       "      <td>1</td>\n",
       "      <td>Alameda</td>\n",
       "      <td>945027714</td>\n",
       "      <td>62</td>\n",
       "      <td>21692</td>\n",
       "      <td>349</td>\n",
       "    </tr>\n",
       "  </tbody>\n",
       "</table>\n",
       "</div>"
      ],
      "text/plain": [
       "    Pseudo_Id Customer_Type Start_Date   End_Date  Ccf_Used  Elevation_Band  \\\n",
       "0  94502-4797          8800 2012-04-05 2012-06-05        26               1   \n",
       "2  94502-4797          8800 2012-08-03 2012-10-03        30               1   \n",
       "3  94502-4797          8800 2012-10-03 2012-12-04        21               1   \n",
       "4  94502-4797          8800 2012-12-04 2013-02-05        20               1   \n",
       "5  94502-4797          8800 2013-02-05 2013-04-08        29               1   \n",
       "\n",
       "      City   Zip_Code  Billed_Days  Gallons_Used  Gallons_Used_Daily  \n",
       "0  Alameda  945027714           61         19448                 318  \n",
       "2  Alameda  945027714           61         22440                 367  \n",
       "3  Alameda  945027714           62         15708                 253  \n",
       "4  Alameda  945027714           63         14960                 237  \n",
       "5  Alameda  945027714           62         21692                 349  "
      ]
     },
     "execution_count": 85,
     "metadata": {},
     "output_type": "execute_result"
    }
   ],
   "source": [
    "water_use.head()"
   ]
  },
  {
   "cell_type": "code",
   "execution_count": 79,
   "id": "16b66ef8",
   "metadata": {},
   "outputs": [
    {
     "data": {
      "text/plain": [
       "Pseudo_Id                     string\n",
       "Customer_Type                 object\n",
       "Start_Date            datetime64[ns]\n",
       "End_Date              datetime64[ns]\n",
       "Ccf_Used                       int32\n",
       "Elevation_Band                 int32\n",
       "City                          object\n",
       "Zip_Code                       int32\n",
       "Billed_Days                    int64\n",
       "Gallons_Used                   int32\n",
       "Gallons_Used_Daily           float64\n",
       "dtype: object"
      ]
     },
     "execution_count": 79,
     "metadata": {},
     "output_type": "execute_result"
    }
   ],
   "source": [
    "water_use.dtypes"
   ]
  },
  {
   "cell_type": "code",
   "execution_count": 80,
   "id": "ea2d21a3",
   "metadata": {},
   "outputs": [],
   "source": [
    "#Convert to int to truncate decimals \n",
    "\n",
    "water_use = water_use.astype({'Gallons_Used_Daily':'int'})"
   ]
  },
  {
   "cell_type": "code",
   "execution_count": 92,
   "id": "0cad07d6",
   "metadata": {},
   "outputs": [
    {
     "data": {
      "text/html": [
       "<div>\n",
       "<style scoped>\n",
       "    .dataframe tbody tr th:only-of-type {\n",
       "        vertical-align: middle;\n",
       "    }\n",
       "\n",
       "    .dataframe tbody tr th {\n",
       "        vertical-align: top;\n",
       "    }\n",
       "\n",
       "    .dataframe thead th {\n",
       "        text-align: right;\n",
       "    }\n",
       "</style>\n",
       "<table border=\"1\" class=\"dataframe\">\n",
       "  <thead>\n",
       "    <tr style=\"text-align: right;\">\n",
       "      <th></th>\n",
       "      <th>Pseudo_Id</th>\n",
       "      <th>Customer_Type</th>\n",
       "      <th>Start_Date</th>\n",
       "      <th>End_Date</th>\n",
       "      <th>Ccf_Used</th>\n",
       "      <th>Elevation_Band</th>\n",
       "      <th>City</th>\n",
       "      <th>Zip_Code</th>\n",
       "      <th>Billed_Days</th>\n",
       "      <th>Gallons_Used</th>\n",
       "      <th>Gallons_Used_Daily</th>\n",
       "    </tr>\n",
       "  </thead>\n",
       "  <tbody>\n",
       "    <tr>\n",
       "      <th>0</th>\n",
       "      <td>94502-4797</td>\n",
       "      <td>8800</td>\n",
       "      <td>2012-04-05</td>\n",
       "      <td>2012-06-05</td>\n",
       "      <td>26</td>\n",
       "      <td>1</td>\n",
       "      <td>Alameda</td>\n",
       "      <td>945027714</td>\n",
       "      <td>61</td>\n",
       "      <td>19448</td>\n",
       "      <td>318</td>\n",
       "    </tr>\n",
       "    <tr>\n",
       "      <th>2</th>\n",
       "      <td>94502-4797</td>\n",
       "      <td>8800</td>\n",
       "      <td>2012-08-03</td>\n",
       "      <td>2012-10-03</td>\n",
       "      <td>30</td>\n",
       "      <td>1</td>\n",
       "      <td>Alameda</td>\n",
       "      <td>945027714</td>\n",
       "      <td>61</td>\n",
       "      <td>22440</td>\n",
       "      <td>367</td>\n",
       "    </tr>\n",
       "    <tr>\n",
       "      <th>3</th>\n",
       "      <td>94502-4797</td>\n",
       "      <td>8800</td>\n",
       "      <td>2012-10-03</td>\n",
       "      <td>2012-12-04</td>\n",
       "      <td>21</td>\n",
       "      <td>1</td>\n",
       "      <td>Alameda</td>\n",
       "      <td>945027714</td>\n",
       "      <td>62</td>\n",
       "      <td>15708</td>\n",
       "      <td>253</td>\n",
       "    </tr>\n",
       "    <tr>\n",
       "      <th>4</th>\n",
       "      <td>94502-4797</td>\n",
       "      <td>8800</td>\n",
       "      <td>2012-12-04</td>\n",
       "      <td>2013-02-05</td>\n",
       "      <td>20</td>\n",
       "      <td>1</td>\n",
       "      <td>Alameda</td>\n",
       "      <td>945027714</td>\n",
       "      <td>63</td>\n",
       "      <td>14960</td>\n",
       "      <td>237</td>\n",
       "    </tr>\n",
       "    <tr>\n",
       "      <th>5</th>\n",
       "      <td>94502-4797</td>\n",
       "      <td>8800</td>\n",
       "      <td>2013-02-05</td>\n",
       "      <td>2013-04-08</td>\n",
       "      <td>29</td>\n",
       "      <td>1</td>\n",
       "      <td>Alameda</td>\n",
       "      <td>945027714</td>\n",
       "      <td>62</td>\n",
       "      <td>21692</td>\n",
       "      <td>349</td>\n",
       "    </tr>\n",
       "  </tbody>\n",
       "</table>\n",
       "</div>"
      ],
      "text/plain": [
       "    Pseudo_Id Customer_Type Start_Date   End_Date  Ccf_Used  Elevation_Band  \\\n",
       "0  94502-4797          8800 2012-04-05 2012-06-05        26               1   \n",
       "2  94502-4797          8800 2012-08-03 2012-10-03        30               1   \n",
       "3  94502-4797          8800 2012-10-03 2012-12-04        21               1   \n",
       "4  94502-4797          8800 2012-12-04 2013-02-05        20               1   \n",
       "5  94502-4797          8800 2013-02-05 2013-04-08        29               1   \n",
       "\n",
       "      City   Zip_Code  Billed_Days  Gallons_Used  Gallons_Used_Daily  \n",
       "0  Alameda  945027714           61         19448                 318  \n",
       "2  Alameda  945027714           61         22440                 367  \n",
       "3  Alameda  945027714           62         15708                 253  \n",
       "4  Alameda  945027714           63         14960                 237  \n",
       "5  Alameda  945027714           62         21692                 349  "
      ]
     },
     "execution_count": 92,
     "metadata": {},
     "output_type": "execute_result"
    }
   ],
   "source": [
    "#!!!!!For some reason the Customer_Type has reverted to numerical codes. . .!!!!!\n",
    "\n",
    "water_use.head()"
   ]
  },
  {
   "cell_type": "code",
   "execution_count": 91,
   "id": "6928f83c",
   "metadata": {},
   "outputs": [],
   "source": [
    "water_use = water_use.astype({'Customer_Type':'string'})"
   ]
  },
  {
   "cell_type": "code",
   "execution_count": 93,
   "id": "ea960192",
   "metadata": {},
   "outputs": [
    {
     "data": {
      "text/plain": [
       "Pseudo_Id                     string\n",
       "Customer_Type                 string\n",
       "Start_Date            datetime64[ns]\n",
       "End_Date              datetime64[ns]\n",
       "Ccf_Used                       int32\n",
       "Elevation_Band                 int32\n",
       "City                          object\n",
       "Zip_Code                       int32\n",
       "Billed_Days                    int64\n",
       "Gallons_Used                   int32\n",
       "Gallons_Used_Daily             int32\n",
       "dtype: object"
      ]
     },
     "execution_count": 93,
     "metadata": {},
     "output_type": "execute_result"
    }
   ],
   "source": [
    "water_use.dtypes"
   ]
  },
  {
   "cell_type": "code",
   "execution_count": 94,
   "id": "a3b6d4bb",
   "metadata": {},
   "outputs": [],
   "source": [
    "water_use['Customer_Type'] = water_use['Customer_Type'].replace(['8800'], 'Res_Single_Family')\n",
    "water_use['Customer_Type'] = water_use['Customer_Type'].replace(['6514'], 'Res_Multiple_Dwelling')\n",
    "water_use['Customer_Type'] = water_use['Customer_Type'].replace(['6513'], 'Res_Apartments')\n",
    "water_use['Customer_Type'] = water_use['Customer_Type'].replace(['2010'], 'Com_Meat_Products')\n",
    "water_use['Customer_Type'] = water_use['Customer_Type'].replace(['2011'], 'Com_Slaughterhouses')\n",
    "water_use['Customer_Type'] = water_use['Customer_Type'].replace(['2020'], 'Com_Dairy Product Processing')\n",
    "water_use['Customer_Type'] = water_use['Customer_Type'].replace(['2030'], 'Com_Fruit_Vegetable_Processing')\n",
    "water_use['Customer_Type'] = water_use['Customer_Type'].replace(['2040'], 'Com_Grain_Mills')\n",
    "water_use['Customer_Type'] = water_use['Customer_Type'].replace(['2050'], 'Com_Bakeries')\n",
    "water_use['Customer_Type'] = water_use['Customer_Type'].replace(['2060'], 'Com_Sugar_Processing')\n",
    "water_use['Customer_Type'] = water_use['Customer_Type'].replace(['2077'], 'Com_Rendering_Tallow')\n",
    "water_use['Customer_Type'] = water_use['Customer_Type'].replace(['2080'], 'Com_Beverage_Manufacturing')\n",
    "water_use['Customer_Type'] = water_use['Customer_Type'].replace(['2090'], 'Com_Specialty_Foods_Manufacturing')\n",
    "water_use['Customer_Type'] = water_use['Customer_Type'].replace(['2600'], 'Com_Paper_Products')\n",
    "water_use['Customer_Type'] = water_use['Customer_Type'].replace(['2910'], 'Com_Inorganic_Chemicals_Manufacturing')\n",
    "water_use['Customer_Type'] = water_use['Customer_Type'].replace(['2820'], 'Com_Synthetic_Materials_Manufacturing')\n",
    "water_use['Customer_Type'] = water_use['Customer_Type'].replace(['2830'], 'Com_Drug_Manufacturing')\n",
    "water_use['Customer_Type'] = water_use['Customer_Type'].replace(['2840'], 'Com_Cleaning_Products')\n",
    "water_use['Customer_Type'] = water_use['Customer_Type'].replace(['2850'], 'Com_Paint_Manufacturing')\n",
    "water_use['Customer_Type'] = water_use['Customer_Type'].replace(['2893'], 'Com_Ink_Pigment_Manufacturing')\n",
    "water_use['Customer_Type'] = water_use['Customer_Type'].replace(['3110'], 'Com_Leather_Tanning_Finishing')\n",
    "water_use['Customer_Type'] = water_use['Customer_Type'].replace(['3200'], 'Com_Earthware_Manufacturing')\n",
    "water_use['Customer_Type'] = water_use['Customer_Type'].replace(['3300'], 'Com_Primary_Metals_Manufacturing')\n",
    "water_use['Customer_Type'] = water_use['Customer_Type'].replace(['3400'], 'Com_Metal_Products_Manufacturing')\n",
    "water_use['Customer_Type'] = water_use['Customer_Type'].replace(['3410'], 'Com_Drum_Barrel_Manufacturing')\n",
    "water_use['Customer_Type'] = water_use['Customer_Type'].replace(['3470'], 'Com_Metal_Coating')\n",
    "water_use['Customer_Type'] = water_use['Customer_Type'].replace(['4500'], 'Com_Air_Transportation')\n",
    "water_use['Customer_Type'] = water_use['Customer_Type'].replace(['4951'], 'Com_Groundwater_Remediation')\n",
    "water_use['Customer_Type'] = water_use['Customer_Type'].replace(['5812'], 'Com_Food_Service_Establishments')\n",
    "water_use['Customer_Type'] = water_use['Customer_Type'].replace(['7000'], 'Com_Hotels_Motels_Food_Service')\n",
    "water_use['Customer_Type'] = water_use['Customer_Type'].replace(['7210'], 'Com_Laundries')\n",
    "water_use['Customer_Type'] = water_use['Customer_Type'].replace(['7215'], 'Com_Laundromats')\n",
    "water_use['Customer_Type'] = water_use['Customer_Type'].replace(['7218'], 'Com_Industrial_Laundries')\n",
    "water_use['Customer_Type'] = water_use['Customer_Type'].replace(['7300'], 'Com_Laboratories')\n",
    "water_use['Customer_Type'] = water_use['Customer_Type'].replace(['7542'], 'Com_Auto_Wash')\n",
    "water_use['Customer_Type'] = water_use['Customer_Type'].replace(['8060'], 'Hospitals')\n",
    "water_use['Customer_Type'] = water_use['Customer_Type'].replace(['8060'], 'Schools')"
   ]
  },
  {
   "cell_type": "code",
   "execution_count": 95,
   "id": "ddc60a09",
   "metadata": {},
   "outputs": [
    {
     "data": {
      "text/html": [
       "<div>\n",
       "<style scoped>\n",
       "    .dataframe tbody tr th:only-of-type {\n",
       "        vertical-align: middle;\n",
       "    }\n",
       "\n",
       "    .dataframe tbody tr th {\n",
       "        vertical-align: top;\n",
       "    }\n",
       "\n",
       "    .dataframe thead th {\n",
       "        text-align: right;\n",
       "    }\n",
       "</style>\n",
       "<table border=\"1\" class=\"dataframe\">\n",
       "  <thead>\n",
       "    <tr style=\"text-align: right;\">\n",
       "      <th></th>\n",
       "      <th>Pseudo_Id</th>\n",
       "      <th>Customer_Type</th>\n",
       "      <th>Start_Date</th>\n",
       "      <th>End_Date</th>\n",
       "      <th>Ccf_Used</th>\n",
       "      <th>Elevation_Band</th>\n",
       "      <th>City</th>\n",
       "      <th>Zip_Code</th>\n",
       "      <th>Billed_Days</th>\n",
       "      <th>Gallons_Used</th>\n",
       "      <th>Gallons_Used_Daily</th>\n",
       "    </tr>\n",
       "  </thead>\n",
       "  <tbody>\n",
       "    <tr>\n",
       "      <th>0</th>\n",
       "      <td>94502-4797</td>\n",
       "      <td>Res_Single_Family</td>\n",
       "      <td>2012-04-05</td>\n",
       "      <td>2012-06-05</td>\n",
       "      <td>26</td>\n",
       "      <td>1</td>\n",
       "      <td>Alameda</td>\n",
       "      <td>945027714</td>\n",
       "      <td>61</td>\n",
       "      <td>19448</td>\n",
       "      <td>318</td>\n",
       "    </tr>\n",
       "    <tr>\n",
       "      <th>2</th>\n",
       "      <td>94502-4797</td>\n",
       "      <td>Res_Single_Family</td>\n",
       "      <td>2012-08-03</td>\n",
       "      <td>2012-10-03</td>\n",
       "      <td>30</td>\n",
       "      <td>1</td>\n",
       "      <td>Alameda</td>\n",
       "      <td>945027714</td>\n",
       "      <td>61</td>\n",
       "      <td>22440</td>\n",
       "      <td>367</td>\n",
       "    </tr>\n",
       "    <tr>\n",
       "      <th>3</th>\n",
       "      <td>94502-4797</td>\n",
       "      <td>Res_Single_Family</td>\n",
       "      <td>2012-10-03</td>\n",
       "      <td>2012-12-04</td>\n",
       "      <td>21</td>\n",
       "      <td>1</td>\n",
       "      <td>Alameda</td>\n",
       "      <td>945027714</td>\n",
       "      <td>62</td>\n",
       "      <td>15708</td>\n",
       "      <td>253</td>\n",
       "    </tr>\n",
       "    <tr>\n",
       "      <th>4</th>\n",
       "      <td>94502-4797</td>\n",
       "      <td>Res_Single_Family</td>\n",
       "      <td>2012-12-04</td>\n",
       "      <td>2013-02-05</td>\n",
       "      <td>20</td>\n",
       "      <td>1</td>\n",
       "      <td>Alameda</td>\n",
       "      <td>945027714</td>\n",
       "      <td>63</td>\n",
       "      <td>14960</td>\n",
       "      <td>237</td>\n",
       "    </tr>\n",
       "    <tr>\n",
       "      <th>5</th>\n",
       "      <td>94502-4797</td>\n",
       "      <td>Res_Single_Family</td>\n",
       "      <td>2013-02-05</td>\n",
       "      <td>2013-04-08</td>\n",
       "      <td>29</td>\n",
       "      <td>1</td>\n",
       "      <td>Alameda</td>\n",
       "      <td>945027714</td>\n",
       "      <td>62</td>\n",
       "      <td>21692</td>\n",
       "      <td>349</td>\n",
       "    </tr>\n",
       "  </tbody>\n",
       "</table>\n",
       "</div>"
      ],
      "text/plain": [
       "    Pseudo_Id      Customer_Type Start_Date   End_Date  Ccf_Used  \\\n",
       "0  94502-4797  Res_Single_Family 2012-04-05 2012-06-05        26   \n",
       "2  94502-4797  Res_Single_Family 2012-08-03 2012-10-03        30   \n",
       "3  94502-4797  Res_Single_Family 2012-10-03 2012-12-04        21   \n",
       "4  94502-4797  Res_Single_Family 2012-12-04 2013-02-05        20   \n",
       "5  94502-4797  Res_Single_Family 2013-02-05 2013-04-08        29   \n",
       "\n",
       "   Elevation_Band     City   Zip_Code  Billed_Days  Gallons_Used  \\\n",
       "0               1  Alameda  945027714           61         19448   \n",
       "2               1  Alameda  945027714           61         22440   \n",
       "3               1  Alameda  945027714           62         15708   \n",
       "4               1  Alameda  945027714           63         14960   \n",
       "5               1  Alameda  945027714           62         21692   \n",
       "\n",
       "   Gallons_Used_Daily  \n",
       "0                 318  \n",
       "2                 367  \n",
       "3                 253  \n",
       "4                 237  \n",
       "5                 349  "
      ]
     },
     "execution_count": 95,
     "metadata": {},
     "output_type": "execute_result"
    }
   ],
   "source": []
  },
  {
   "cell_type": "code",
   "execution_count": 96,
   "id": "4bdd5cd4",
   "metadata": {},
   "outputs": [],
   "source": [
    "#We have a bunch of numerical codes that we have no reference for, we will list these as 'Misc_Other'\n",
    "water_use['Customer_Type'] = water_use['Customer_Type'].replace(['5300', '7900', '6800', '7500', '7200', '7950', '8000', '4400', '7260', '5811', '2051', '4200', '4950', \n",
    "'8200', '5400', '7990', '8600', '5813', '5540', '4800', '7020', '0100', '1500', '7600', '4900', '0700', \n",
    "'2900', '2500', '3590', '7001', '3730', '2700', '2300', '7216', '3700', '5000', '3900', '7940', '2891', \n",
    "'BCC', '3600', '4100', '6500', '3500', '3800', '4700', '7342', '2400', '4000', '2810', '5093', '3000', \n",
    "'7539', '1200' ,'7699' ,'2860'], 'Misc_Other')"
   ]
  },
  {
   "cell_type": "code",
   "execution_count": 97,
   "id": "3828d168",
   "metadata": {},
   "outputs": [
    {
     "data": {
      "text/html": [
       "<div>\n",
       "<style scoped>\n",
       "    .dataframe tbody tr th:only-of-type {\n",
       "        vertical-align: middle;\n",
       "    }\n",
       "\n",
       "    .dataframe tbody tr th {\n",
       "        vertical-align: top;\n",
       "    }\n",
       "\n",
       "    .dataframe thead th {\n",
       "        text-align: right;\n",
       "    }\n",
       "</style>\n",
       "<table border=\"1\" class=\"dataframe\">\n",
       "  <thead>\n",
       "    <tr style=\"text-align: right;\">\n",
       "      <th></th>\n",
       "      <th>Pseudo_Id</th>\n",
       "      <th>Customer_Type</th>\n",
       "      <th>Start_Date</th>\n",
       "      <th>End_Date</th>\n",
       "      <th>Ccf_Used</th>\n",
       "      <th>Elevation_Band</th>\n",
       "      <th>City</th>\n",
       "      <th>Zip_Code</th>\n",
       "      <th>Billed_Days</th>\n",
       "      <th>Gallons_Used</th>\n",
       "      <th>Gallons_Used_Daily</th>\n",
       "    </tr>\n",
       "  </thead>\n",
       "  <tbody>\n",
       "    <tr>\n",
       "      <th>0</th>\n",
       "      <td>94502-4797</td>\n",
       "      <td>Res_Single_Family</td>\n",
       "      <td>2012-04-05</td>\n",
       "      <td>2012-06-05</td>\n",
       "      <td>26</td>\n",
       "      <td>1</td>\n",
       "      <td>Alameda</td>\n",
       "      <td>945027714</td>\n",
       "      <td>61</td>\n",
       "      <td>19448</td>\n",
       "      <td>318</td>\n",
       "    </tr>\n",
       "    <tr>\n",
       "      <th>2</th>\n",
       "      <td>94502-4797</td>\n",
       "      <td>Res_Single_Family</td>\n",
       "      <td>2012-08-03</td>\n",
       "      <td>2012-10-03</td>\n",
       "      <td>30</td>\n",
       "      <td>1</td>\n",
       "      <td>Alameda</td>\n",
       "      <td>945027714</td>\n",
       "      <td>61</td>\n",
       "      <td>22440</td>\n",
       "      <td>367</td>\n",
       "    </tr>\n",
       "    <tr>\n",
       "      <th>3</th>\n",
       "      <td>94502-4797</td>\n",
       "      <td>Res_Single_Family</td>\n",
       "      <td>2012-10-03</td>\n",
       "      <td>2012-12-04</td>\n",
       "      <td>21</td>\n",
       "      <td>1</td>\n",
       "      <td>Alameda</td>\n",
       "      <td>945027714</td>\n",
       "      <td>62</td>\n",
       "      <td>15708</td>\n",
       "      <td>253</td>\n",
       "    </tr>\n",
       "    <tr>\n",
       "      <th>4</th>\n",
       "      <td>94502-4797</td>\n",
       "      <td>Res_Single_Family</td>\n",
       "      <td>2012-12-04</td>\n",
       "      <td>2013-02-05</td>\n",
       "      <td>20</td>\n",
       "      <td>1</td>\n",
       "      <td>Alameda</td>\n",
       "      <td>945027714</td>\n",
       "      <td>63</td>\n",
       "      <td>14960</td>\n",
       "      <td>237</td>\n",
       "    </tr>\n",
       "    <tr>\n",
       "      <th>5</th>\n",
       "      <td>94502-4797</td>\n",
       "      <td>Res_Single_Family</td>\n",
       "      <td>2013-02-05</td>\n",
       "      <td>2013-04-08</td>\n",
       "      <td>29</td>\n",
       "      <td>1</td>\n",
       "      <td>Alameda</td>\n",
       "      <td>945027714</td>\n",
       "      <td>62</td>\n",
       "      <td>21692</td>\n",
       "      <td>349</td>\n",
       "    </tr>\n",
       "  </tbody>\n",
       "</table>\n",
       "</div>"
      ],
      "text/plain": [
       "    Pseudo_Id      Customer_Type Start_Date   End_Date  Ccf_Used  \\\n",
       "0  94502-4797  Res_Single_Family 2012-04-05 2012-06-05        26   \n",
       "2  94502-4797  Res_Single_Family 2012-08-03 2012-10-03        30   \n",
       "3  94502-4797  Res_Single_Family 2012-10-03 2012-12-04        21   \n",
       "4  94502-4797  Res_Single_Family 2012-12-04 2013-02-05        20   \n",
       "5  94502-4797  Res_Single_Family 2013-02-05 2013-04-08        29   \n",
       "\n",
       "   Elevation_Band     City   Zip_Code  Billed_Days  Gallons_Used  \\\n",
       "0               1  Alameda  945027714           61         19448   \n",
       "2               1  Alameda  945027714           61         22440   \n",
       "3               1  Alameda  945027714           62         15708   \n",
       "4               1  Alameda  945027714           63         14960   \n",
       "5               1  Alameda  945027714           62         21692   \n",
       "\n",
       "   Gallons_Used_Daily  \n",
       "0                 318  \n",
       "2                 367  \n",
       "3                 253  \n",
       "4                 237  \n",
       "5                 349  "
      ]
     },
     "execution_count": 97,
     "metadata": {},
     "output_type": "execute_result"
    }
   ],
   "source": [
    "#!!!!Had to re-run the numerical to type conversion to get them back!!!!\n",
    "water_use.head()"
   ]
  },
  {
   "cell_type": "code",
   "execution_count": null,
   "id": "4dbce2ed",
   "metadata": {},
   "outputs": [],
   "source": []
  }
 ],
 "metadata": {
  "kernelspec": {
   "display_name": "Python 3 (ipykernel)",
   "language": "python",
   "name": "python3"
  },
  "language_info": {
   "codemirror_mode": {
    "name": "ipython",
    "version": 3
   },
   "file_extension": ".py",
   "mimetype": "text/x-python",
   "name": "python",
   "nbconvert_exporter": "python",
   "pygments_lexer": "ipython3",
   "version": "3.9.13"
  }
 },
 "nbformat": 4,
 "nbformat_minor": 5
}
